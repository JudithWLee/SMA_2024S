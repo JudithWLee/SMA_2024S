{
 "cells": [
  {
   "attachments": {},
   "cell_type": "markdown",
   "metadata": {},
   "source": [
    "# 文件分類\n",
    "\n",
    "**Author:** 黃天原  \n",
    "本周課程為「文件分類」，主要使用文章轉DTM(document term matrix)的方式，將文章用不同的字詞分布表示，再利用python的sklearn套件，套用決策樹、logistic regression等方式訓練模型，以分辨不同的文件。本篇 Jupyter Notebook 將展示「中文」的文件分類，使用聯合新聞網的三個版別文章做示範。"
   ]
  },
  {
   "attachments": {},
   "cell_type": "markdown",
   "metadata": {},
   "source": [
    "## 分析目標\n",
    "+ 資料內容：\n",
    "    + 資料來源：聯合新聞網\n",
    "    + 版別：股市、運動、兩岸、全球\n",
    "\n",
    "* 分析主題：將聯合新聞網三個版別的文章合起來，訓練模型能預測新聞版別，再用分類模型進行文件的版別分類。\n",
    "\n",
    "* 以下為教學目標：\n",
    "    1. 如何將以數字向量代表一篇文章？\n",
    "        * `CountVectorizer`\n",
    "        * `TfidfVectorizer`\n",
    "    2. 基本的分類模型流程，包含以下三步驟：\n",
    "        * 前處理 (preprocess)\n",
    "        * 建模 (train model)\n",
    "        * 評估與預測 (evaluation and predict)\n",
    "    3. cross validation\n",
    "    4. 不同分類器的效果\n",
    "    5. 可解釋的可視化模型結果\n",
    "    6. 預測其他家新聞文章的版別"
   ]
  },
  {
   "attachments": {},
   "cell_type": "markdown",
   "metadata": {},
   "source": [
    "## 1. 套件說明\n",
    "下面列出在本次實作過程中我們所使用到的相關套件，在這個Jupyter Notebook當中我們將會簡單的展示這些套件的使用方式，關於各個套件的進階使用請同學參照其官網的說明。\n",
    "- **sklearn**: 全名為Scikit-learn，機器學習的常用建模套件，包含各種分群、分類、迴歸模型，如隨機森林、SVM或 K-means 等。\n",
    "- pandas: 一個資料分析的函式庫，提供了DataFrame等資料格式，與資料處理的函數。\n",
    "- jieba: 結巴套件，中文斷詞套件\n",
    "- seaborn: 基於 matplotlib 封裝的繪圖工具"
   ]
  },
  {
   "cell_type": "code",
   "execution_count": 1,
   "metadata": {},
   "outputs": [],
   "source": [
    "import re\n",
    "from pprint import pprint\n",
    "\n",
    "import pandas as pd\n",
    "import numpy as np\n",
    "import matplotlib.pyplot as plt\n",
    "import seaborn as sns\n",
    "import jieba\n",
    "from sklearn.model_selection import train_test_split, cross_validate, cross_val_predict, KFold\n",
    "from sklearn.metrics import (\n",
    "    confusion_matrix,\n",
    "    classification_report,\n",
    "    roc_curve,\n",
    "    auc,\n",
    "    precision_recall_curve,\n",
    "    RocCurveDisplay\n",
    ")\n",
    "from sklearn.feature_extraction.text import TfidfVectorizer, CountVectorizer\n",
    "from sklearn.preprocessing import LabelBinarizer\n",
    "from sklearn.linear_model import LogisticRegression\n",
    "from sklearn.naive_bayes import GaussianNB\n",
    "from sklearn.tree import DecisionTreeClassifier, plot_tree\n",
    "from sklearn.ensemble import RandomForestClassifier\n",
    "from sklearn import svm"
   ]
  },
  {
   "cell_type": "markdown",
   "metadata": {},
   "source": [
    "設定中文字體"
   ]
  },
  {
   "cell_type": "code",
   "execution_count": 2,
   "metadata": {},
   "outputs": [
    {
     "data": {
      "text/plain": [
       "Text(0.5, 1.0, '聲量圖')"
      ]
     },
     "execution_count": 2,
     "metadata": {},
     "output_type": "execute_result"
    },
    {
     "data": {
      "image/png": "[encoded data removed]",
      "text/plain": [
       "<Figure size 640x480 with 1 Axes>"
      ]
     },
     "metadata": {},
     "output_type": "display_data"
    }
   ],
   "source": [
    "# https://zhuanlan.zhihu.com/p/566430362\n",
    "# from matplotlib import font_manager\n",
    "# font_set = {f.name for f in font_manager.fontManager.ttflist}\n",
    "plt.rcParams['font.sans-serif']=['SimHei']\n",
    "plt.rcParams['axes.unicode_minus']=False\n",
    "plt.plot((1, 2, 3), (4, 3, -1))\n",
    "plt.title(\"聲量圖\")"
   ]
  },
  {
   "attachments": {},
   "cell_type": "markdown",
   "metadata": {},
   "source": [
    "## 2. 文字前處理\n",
    "`udn_news_202402.csv`裡面包含了要分析的 udn 新聞資料。首先我們先看文集的基本資料，並做文集前處理。"
   ]
  },
  {
   "cell_type": "code",
   "execution_count": 3,
   "metadata": {
    "scrolled": true
   },
   "outputs": [
    {
     "data": {
      "text/html": [
       "<div>\n",
       "<style scoped>\n",
       "    .dataframe tbody tr th:only-of-type {\n",
       "        vertical-align: middle;\n",
       "    }\n",
       "\n",
       "    .dataframe tbody tr th {\n",
       "        vertical-align: top;\n",
       "    }\n",
       "\n",
       "    .dataframe thead th {\n",
       "        text-align: right;\n",
       "    }\n",
       "</style>\n",
       "<table border=\"1\" class=\"dataframe\">\n",
       "  <thead>\n",
       "    <tr style=\"text-align: right;\">\n",
       "      <th></th>\n",
       "      <th>system_id</th>\n",
       "      <th>artTitle</th>\n",
       "      <th>artDate</th>\n",
       "      <th>artCatagory</th>\n",
       "      <th>artUrl</th>\n",
       "      <th>artContent</th>\n",
       "      <th>dataSource</th>\n",
       "    </tr>\n",
       "  </thead>\n",
       "  <tbody>\n",
       "    <tr>\n",
       "      <th>0</th>\n",
       "      <td>1</td>\n",
       "      <td>中職／非樹倒猢猻散而是桃李滿天下 戰力外溢彰顯樂天深度</td>\n",
       "      <td>2024-02-01 07:00:00</td>\n",
       "      <td>運動</td>\n",
       "      <td>https://udn.com/news/story/122629/7746474</td>\n",
       "      <td>由於過去幾年在季後的休賽期間總是在人員調動有令人吃驚的動作，因此富邦被戲稱為季後賽王者，沒想...</td>\n",
       "      <td>UDN</td>\n",
       "    </tr>\n",
       "    <tr>\n",
       "      <th>1</th>\n",
       "      <td>2</td>\n",
       "      <td>中職／2023驚奇一年 味全龍「紅色大砲」劉基鴻轟出神劇本</td>\n",
       "      <td>2024-02-05 12:00:00</td>\n",
       "      <td>運動</td>\n",
       "      <td>https://udn.com/news/story/122629/7748599</td>\n",
       "      <td>【撰文・鍾亞芳】2021年就曾因骨裂影響出賽，2022季末遭觸身球擊中手腕造成骨裂傷勢，賽季...</td>\n",
       "      <td>UDN</td>\n",
       "    </tr>\n",
       "    <tr>\n",
       "      <th>2</th>\n",
       "      <td>3</td>\n",
       "      <td>中職／花店老闆上工 前中信兄弟「轉運手」官大元展開第2人生</td>\n",
       "      <td>2024-02-15 12:00:00</td>\n",
       "      <td>運動</td>\n",
       "      <td>https://udn.com/news/story/122629/7748779</td>\n",
       "      <td>【撰文・鍾亞芳】生涯中大半時間都在思索褪下球員身分後出路，直到2019年收回出租房屋，整理、...</td>\n",
       "      <td>UDN</td>\n",
       "    </tr>\n",
       "  </tbody>\n",
       "</table>\n",
       "</div>"
      ],
      "text/plain": [
       "   system_id                       artTitle              artDate artCatagory  \\\n",
       "0          1    中職／非樹倒猢猻散而是桃李滿天下 戰力外溢彰顯樂天深度  2024-02-01 07:00:00          運動   \n",
       "1          2  中職／2023驚奇一年 味全龍「紅色大砲」劉基鴻轟出神劇本  2024-02-05 12:00:00          運動   \n",
       "2          3  中職／花店老闆上工 前中信兄弟「轉運手」官大元展開第2人生  2024-02-15 12:00:00          運動   \n",
       "\n",
       "                                      artUrl  \\\n",
       "0  https://udn.com/news/story/122629/7746474   \n",
       "1  https://udn.com/news/story/122629/7748599   \n",
       "2  https://udn.com/news/story/122629/7748779   \n",
       "\n",
       "                                          artContent dataSource  \n",
       "0  由於過去幾年在季後的休賽期間總是在人員調動有令人吃驚的動作，因此富邦被戲稱為季後賽王者，沒想...        UDN  \n",
       "1  【撰文・鍾亞芳】2021年就曾因骨裂影響出賽，2022季末遭觸身球擊中手腕造成骨裂傷勢，賽季...        UDN  \n",
       "2  【撰文・鍾亞芳】生涯中大半時間都在思索褪下球員身分後出路，直到2019年收回出租房屋，整理、...        UDN  "
      ]
     },
     "execution_count": 3,
     "metadata": {},
     "output_type": "execute_result"
    }
   ],
   "source": [
    "udn = pd.read_csv(\"raw_data/udn_news_202402.csv\")  # 匯資料\n",
    "udn.head(3)"
   ]
  },
  {
   "cell_type": "code",
   "execution_count": 4,
   "metadata": {},
   "outputs": [
    {
     "name": "stdout",
     "output_type": "stream",
     "text": [
      "number of posts: 6531\n",
      "date range: ('2024-02-01 00:08:00', '2024-02-29 23:57:00')\n",
      "category: \n",
      "artCatagory\n",
      "股市    1961\n",
      "兩岸    1670\n",
      "全球    1614\n",
      "運動    1286\n",
      "Name: count, dtype: int64\n"
     ]
    }
   ],
   "source": [
    "# 看看有幾篇文章\n",
    "print(f\"number of posts: {udn.shape[0]}\")\n",
    "print(f\"date range: {(udn['artDate'].min(), udn['artDate'].max())}\")\n",
    "print(f\"category: \\n{udn['artCatagory'].value_counts()}\")"
   ]
  },
  {
   "attachments": {},
   "cell_type": "markdown",
   "metadata": {},
   "source": [
    "+ 2.1 斷句\n",
    "+ 2.2 斷詞（刪掉次數太少的、標點符號、停用字）"
   ]
  },
  {
   "attachments": {},
   "cell_type": "markdown",
   "metadata": {},
   "source": [
    "### 2.1 清理"
   ]
  },
  {
   "cell_type": "markdown",
   "metadata": {},
   "source": [
    "利用問號、句號或驚嘆號等符號斷句，或是如果出現中文或是英文的省略號，像是`...`也會斷句，最後設定會去除結尾的空白符號。"
   ]
  },
  {
   "cell_type": "code",
   "execution_count": 5,
   "metadata": {},
   "outputs": [
    {
     "data": {
      "text/html": [
       "<div>\n",
       "<style scoped>\n",
       "    .dataframe tbody tr th:only-of-type {\n",
       "        vertical-align: middle;\n",
       "    }\n",
       "\n",
       "    .dataframe tbody tr th {\n",
       "        vertical-align: top;\n",
       "    }\n",
       "\n",
       "    .dataframe thead th {\n",
       "        text-align: right;\n",
       "    }\n",
       "</style>\n",
       "<table border=\"1\" class=\"dataframe\">\n",
       "  <thead>\n",
       "    <tr style=\"text-align: right;\">\n",
       "      <th></th>\n",
       "      <th>system_id</th>\n",
       "      <th>artTitle</th>\n",
       "      <th>artDate</th>\n",
       "      <th>artCatagory</th>\n",
       "      <th>artUrl</th>\n",
       "      <th>artContent</th>\n",
       "      <th>dataSource</th>\n",
       "    </tr>\n",
       "  </thead>\n",
       "  <tbody>\n",
       "    <tr>\n",
       "      <th>0</th>\n",
       "      <td>1</td>\n",
       "      <td>中職非樹倒猢猻散而是桃李滿天下戰力外溢彰顯樂天深度</td>\n",
       "      <td>2024-02-01 07:00:00</td>\n",
       "      <td>運動</td>\n",
       "      <td>https://udn.com/news/story/122629/7746474</td>\n",
       "      <td>由於過去幾年在季後的休賽期間總是在人員調動有令人吃驚的動作因此富邦被戲稱為季後賽王者沒想到這...</td>\n",
       "      <td>UDN</td>\n",
       "    </tr>\n",
       "    <tr>\n",
       "      <th>1</th>\n",
       "      <td>2</td>\n",
       "      <td>中職驚奇一年味全龍紅色大砲劉基鴻轟出神劇本</td>\n",
       "      <td>2024-02-05 12:00:00</td>\n",
       "      <td>運動</td>\n",
       "      <td>https://udn.com/news/story/122629/7748599</td>\n",
       "      <td>撰文鍾亞芳年就曾因骨裂影響出賽季末遭觸身球擊中手腕造成骨裂傷勢賽季提前報銷球隊首度闖進季後挑...</td>\n",
       "      <td>UDN</td>\n",
       "    </tr>\n",
       "    <tr>\n",
       "      <th>2</th>\n",
       "      <td>3</td>\n",
       "      <td>中職花店老闆上工前中信兄弟轉運手官大元展開第人生</td>\n",
       "      <td>2024-02-15 12:00:00</td>\n",
       "      <td>運動</td>\n",
       "      <td>https://udn.com/news/story/122629/7748779</td>\n",
       "      <td>撰文鍾亞芳生涯中大半時間都在思索褪下球員身分後出路直到年收回出租房屋整理規畫後老婆對藝術有獨...</td>\n",
       "      <td>UDN</td>\n",
       "    </tr>\n",
       "  </tbody>\n",
       "</table>\n",
       "</div>"
      ],
      "text/plain": [
       "   system_id                   artTitle              artDate artCatagory  \\\n",
       "0          1  中職非樹倒猢猻散而是桃李滿天下戰力外溢彰顯樂天深度  2024-02-01 07:00:00          運動   \n",
       "1          2      中職驚奇一年味全龍紅色大砲劉基鴻轟出神劇本  2024-02-05 12:00:00          運動   \n",
       "2          3   中職花店老闆上工前中信兄弟轉運手官大元展開第人生  2024-02-15 12:00:00          運動   \n",
       "\n",
       "                                      artUrl  \\\n",
       "0  https://udn.com/news/story/122629/7746474   \n",
       "1  https://udn.com/news/story/122629/7748599   \n",
       "2  https://udn.com/news/story/122629/7748779   \n",
       "\n",
       "                                          artContent dataSource  \n",
       "0  由於過去幾年在季後的休賽期間總是在人員調動有令人吃驚的動作因此富邦被戲稱為季後賽王者沒想到這...        UDN  \n",
       "1  撰文鍾亞芳年就曾因骨裂影響出賽季末遭觸身球擊中手腕造成骨裂傷勢賽季提前報銷球隊首度闖進季後挑...        UDN  \n",
       "2  撰文鍾亞芳生涯中大半時間都在思索褪下球員身分後出路直到年收回出租房屋整理規畫後老婆對藝術有獨...        UDN  "
      ]
     },
     "execution_count": 5,
     "metadata": {},
     "output_type": "execute_result"
    }
   ],
   "source": [
    "# 過濾 nan 的資料\n",
    "udn = udn.dropna(subset=['artTitle'])\n",
    "udn = udn.dropna(subset=['artContent'])\n",
    "# 移除網址格式\n",
    "udn[\"artContent\"] = udn.artContent.apply(\n",
    "    lambda x: re.sub(\"(http|https)://.*\", \"\", x)\n",
    ")\n",
    "udn[\"artTitle\"] = udn[\"artTitle\"].apply(\n",
    "    lambda x: re.sub(\"(http|https)://.*\", \"\", x)\n",
    ")\n",
    "# 只留下中文字\n",
    "udn[\"artContent\"] = udn.artContent.apply(\n",
    "    lambda x: re.sub(\"[^\\u4e00-\\u9fa5]+\", \"\", x)\n",
    ")\n",
    "udn[\"artTitle\"] = udn[\"artTitle\"].apply(\n",
    "    lambda x: re.sub(\"[^\\u4e00-\\u9fa5]+\", \"\", x)\n",
    ")\n",
    "udn.head(3)"
   ]
  },
  {
   "cell_type": "markdown",
   "metadata": {},
   "source": [
    "文章的標題`artTitle`和內文`sentence`都會納入分析的內容，成為新的`content`欄位。"
   ]
  },
  {
   "cell_type": "code",
   "execution_count": 6,
   "metadata": {},
   "outputs": [
    {
     "data": {
      "text/html": [
       "<div>\n",
       "<style scoped>\n",
       "    .dataframe tbody tr th:only-of-type {\n",
       "        vertical-align: middle;\n",
       "    }\n",
       "\n",
       "    .dataframe tbody tr th {\n",
       "        vertical-align: top;\n",
       "    }\n",
       "\n",
       "    .dataframe thead th {\n",
       "        text-align: right;\n",
       "    }\n",
       "</style>\n",
       "<table border=\"1\" class=\"dataframe\">\n",
       "  <thead>\n",
       "    <tr style=\"text-align: right;\">\n",
       "      <th></th>\n",
       "      <th>content</th>\n",
       "      <th>artUrl</th>\n",
       "      <th>artCatagory</th>\n",
       "    </tr>\n",
       "  </thead>\n",
       "  <tbody>\n",
       "    <tr>\n",
       "      <th>0</th>\n",
       "      <td>中職非樹倒猢猻散而是桃李滿天下戰力外溢彰顯樂天深度由於過去幾年在季後的休賽期間總是在人員調動...</td>\n",
       "      <td>https://udn.com/news/story/122629/7746474</td>\n",
       "      <td>運動</td>\n",
       "    </tr>\n",
       "    <tr>\n",
       "      <th>1</th>\n",
       "      <td>中職驚奇一年味全龍紅色大砲劉基鴻轟出神劇本撰文鍾亞芳年就曾因骨裂影響出賽季末遭觸身球擊中手腕...</td>\n",
       "      <td>https://udn.com/news/story/122629/7748599</td>\n",
       "      <td>運動</td>\n",
       "    </tr>\n",
       "    <tr>\n",
       "      <th>2</th>\n",
       "      <td>中職花店老闆上工前中信兄弟轉運手官大元展開第人生撰文鍾亞芳生涯中大半時間都在思索褪下球員身分...</td>\n",
       "      <td>https://udn.com/news/story/122629/7748779</td>\n",
       "      <td>運動</td>\n",
       "    </tr>\n",
       "    <tr>\n",
       "      <th>3</th>\n",
       "      <td>中職冬盟展現打擊天賦統一獅何恆佑潛力股衝刺一軍撰文鄧心瑜何恆佑是教練團公認訓練認真態度積極選...</td>\n",
       "      <td>https://udn.com/news/story/122629/7748904</td>\n",
       "      <td>運動</td>\n",
       "    </tr>\n",
       "    <tr>\n",
       "      <th>4</th>\n",
       "      <td>尼克無懼逆境加速向前衝攻防都進入精英級別紐約尼克最近八連勝勝敗站上東區第三尼克進攻效率第六防...</td>\n",
       "      <td>https://udn.com/news/story/122629/7749189</td>\n",
       "      <td>運動</td>\n",
       "    </tr>\n",
       "  </tbody>\n",
       "</table>\n",
       "</div>"
      ],
      "text/plain": [
       "                                             content  \\\n",
       "0  中職非樹倒猢猻散而是桃李滿天下戰力外溢彰顯樂天深度由於過去幾年在季後的休賽期間總是在人員調動...   \n",
       "1  中職驚奇一年味全龍紅色大砲劉基鴻轟出神劇本撰文鍾亞芳年就曾因骨裂影響出賽季末遭觸身球擊中手腕...   \n",
       "2  中職花店老闆上工前中信兄弟轉運手官大元展開第人生撰文鍾亞芳生涯中大半時間都在思索褪下球員身分...   \n",
       "3  中職冬盟展現打擊天賦統一獅何恆佑潛力股衝刺一軍撰文鄧心瑜何恆佑是教練團公認訓練認真態度積極選...   \n",
       "4  尼克無懼逆境加速向前衝攻防都進入精英級別紐約尼克最近八連勝勝敗站上東區第三尼克進攻效率第六防...   \n",
       "\n",
       "                                      artUrl artCatagory  \n",
       "0  https://udn.com/news/story/122629/7746474          運動  \n",
       "1  https://udn.com/news/story/122629/7748599          運動  \n",
       "2  https://udn.com/news/story/122629/7748779          運動  \n",
       "3  https://udn.com/news/story/122629/7748904          運動  \n",
       "4  https://udn.com/news/story/122629/7749189          運動  "
      ]
     },
     "execution_count": 6,
     "metadata": {},
     "output_type": "execute_result"
    }
   ],
   "source": [
    "# 留下 content\n",
    "udn[\"content\"] = udn[\"artTitle\"] + udn[\"artContent\"]\n",
    "udn = udn[[\"content\", \"artUrl\", \"artCatagory\"]]  # 文章內容 文章連結\n",
    "udn.head()"
   ]
  },
  {
   "cell_type": "code",
   "execution_count": 7,
   "metadata": {
    "scrolled": true
   },
   "outputs": [
    {
     "name": "stdout",
     "output_type": "stream",
     "text": [
      "total docs: 6531\n"
     ]
    }
   ],
   "source": [
    "# 看看有幾篇文章\n",
    "print(f\"total docs: {udn.shape[0]}\")\n"
   ]
  },
  {
   "attachments": {},
   "cell_type": "markdown",
   "metadata": {},
   "source": [
    "### 2.2 斷詞"
   ]
  },
  {
   "cell_type": "code",
   "execution_count": 8,
   "metadata": {},
   "outputs": [],
   "source": [
    "# 設定繁體中文詞庫\n",
    "jieba.set_dictionary(\"./dict/dict.txt.big\")\n",
    "\n",
    "# 新增stopwords\n",
    "# jieba.analyse.set_stop_words('./dict/stop_words.txt') #jieba.analyse.extract_tags才會作用\n",
    "with open(\"./dict/stop_words.txt\", encoding=\"utf-8\") as f:\n",
    "    stopWords = [line.strip() for line in f.readlines()]"
   ]
  },
  {
   "cell_type": "code",
   "execution_count": 9,
   "metadata": {},
   "outputs": [],
   "source": [
    "# 設定斷詞 function\n",
    "def getToken(row):\n",
    "    seg_list = jieba.cut(row, cut_all=False)\n",
    "    seg_list = [\n",
    "        w for w in seg_list if w not in stopWords and len(w) > 1\n",
    "    ]  # 篩選掉停用字與字元數大於1的詞彙\n",
    "    return seg_list"
   ]
  },
  {
   "cell_type": "code",
   "execution_count": 10,
   "metadata": {},
   "outputs": [
    {
     "name": "stderr",
     "output_type": "stream",
     "text": [
      "Building prefix dict from /Users/changchenyu/Desktop/中山大學/社群媒體分析/SMA_2024S/week7/dict/dict.txt.big ...\n",
      "Loading model from cache /var/folders/6t/4zddl4td2y17gcdkvdjnwk4m0000gn/T/jieba.u5534e0d431daf7350006632f6cd1fcda.cache\n",
      "Loading model cost 1.453 seconds.\n",
      "Prefix dict has been built successfully.\n"
     ]
    },
    {
     "data": {
      "text/html": [
       "<div>\n",
       "<style scoped>\n",
       "    .dataframe tbody tr th:only-of-type {\n",
       "        vertical-align: middle;\n",
       "    }\n",
       "\n",
       "    .dataframe tbody tr th {\n",
       "        vertical-align: top;\n",
       "    }\n",
       "\n",
       "    .dataframe thead th {\n",
       "        text-align: right;\n",
       "    }\n",
       "</style>\n",
       "<table border=\"1\" class=\"dataframe\">\n",
       "  <thead>\n",
       "    <tr style=\"text-align: right;\">\n",
       "      <th></th>\n",
       "      <th>content</th>\n",
       "      <th>artUrl</th>\n",
       "      <th>artCatagory</th>\n",
       "      <th>words</th>\n",
       "    </tr>\n",
       "  </thead>\n",
       "  <tbody>\n",
       "    <tr>\n",
       "      <th>0</th>\n",
       "      <td>中職非樹倒猢猻散而是桃李滿天下戰力外溢彰顯樂天深度由於過去幾年在季後的休賽期間總是在人員調動...</td>\n",
       "      <td>https://udn.com/news/story/122629/7746474</td>\n",
       "      <td>運動</td>\n",
       "      <td>中職 樹倒猢猻散 桃李滿天下 戰力 外溢 彰顯 樂天 深度 過去 幾年 季後的 休賽 期間 ...</td>\n",
       "    </tr>\n",
       "    <tr>\n",
       "      <th>1</th>\n",
       "      <td>中職驚奇一年味全龍紅色大砲劉基鴻轟出神劇本撰文鍾亞芳年就曾因骨裂影響出賽季末遭觸身球擊中手腕...</td>\n",
       "      <td>https://udn.com/news/story/122629/7748599</td>\n",
       "      <td>運動</td>\n",
       "      <td>中職 驚奇 一年 味全 紅色 劉基 出神 劇本 撰文 亞芳 因骨裂 影響 賽季 遭觸 身球 ...</td>\n",
       "    </tr>\n",
       "    <tr>\n",
       "      <th>2</th>\n",
       "      <td>中職花店老闆上工前中信兄弟轉運手官大元展開第人生撰文鍾亞芳生涯中大半時間都在思索褪下球員身分...</td>\n",
       "      <td>https://udn.com/news/story/122629/7748779</td>\n",
       "      <td>運動</td>\n",
       "      <td>中職 店老闆 上工 中信 兄弟 轉運 手官 大元 展開 人生 撰文 亞芳 生涯 大半 時間 ...</td>\n",
       "    </tr>\n",
       "    <tr>\n",
       "      <th>3</th>\n",
       "      <td>中職冬盟展現打擊天賦統一獅何恆佑潛力股衝刺一軍撰文鄧心瑜何恆佑是教練團公認訓練認真態度積極選...</td>\n",
       "      <td>https://udn.com/news/story/122629/7748904</td>\n",
       "      <td>運動</td>\n",
       "      <td>中職 冬盟 展現 打擊 天賦 統一 獅何 恆佑 潛力股 衝刺 撰文 鄧心 何恆佑 教練 公認...</td>\n",
       "    </tr>\n",
       "    <tr>\n",
       "      <th>4</th>\n",
       "      <td>尼克無懼逆境加速向前衝攻防都進入精英級別紐約尼克最近八連勝勝敗站上東區第三尼克進攻效率第六防...</td>\n",
       "      <td>https://udn.com/news/story/122629/7749189</td>\n",
       "      <td>運動</td>\n",
       "      <td>尼克 無懼 逆境 加速 向前 攻防 進入 精英 級別 紐約 尼克 最近 連勝 勝敗 站上 東...</td>\n",
       "    </tr>\n",
       "  </tbody>\n",
       "</table>\n",
       "</div>"
      ],
      "text/plain": [
       "                                             content  \\\n",
       "0  中職非樹倒猢猻散而是桃李滿天下戰力外溢彰顯樂天深度由於過去幾年在季後的休賽期間總是在人員調動...   \n",
       "1  中職驚奇一年味全龍紅色大砲劉基鴻轟出神劇本撰文鍾亞芳年就曾因骨裂影響出賽季末遭觸身球擊中手腕...   \n",
       "2  中職花店老闆上工前中信兄弟轉運手官大元展開第人生撰文鍾亞芳生涯中大半時間都在思索褪下球員身分...   \n",
       "3  中職冬盟展現打擊天賦統一獅何恆佑潛力股衝刺一軍撰文鄧心瑜何恆佑是教練團公認訓練認真態度積極選...   \n",
       "4  尼克無懼逆境加速向前衝攻防都進入精英級別紐約尼克最近八連勝勝敗站上東區第三尼克進攻效率第六防...   \n",
       "\n",
       "                                      artUrl artCatagory  \\\n",
       "0  https://udn.com/news/story/122629/7746474          運動   \n",
       "1  https://udn.com/news/story/122629/7748599          運動   \n",
       "2  https://udn.com/news/story/122629/7748779          運動   \n",
       "3  https://udn.com/news/story/122629/7748904          運動   \n",
       "4  https://udn.com/news/story/122629/7749189          運動   \n",
       "\n",
       "                                               words  \n",
       "0  中職 樹倒猢猻散 桃李滿天下 戰力 外溢 彰顯 樂天 深度 過去 幾年 季後的 休賽 期間 ...  \n",
       "1  中職 驚奇 一年 味全 紅色 劉基 出神 劇本 撰文 亞芳 因骨裂 影響 賽季 遭觸 身球 ...  \n",
       "2  中職 店老闆 上工 中信 兄弟 轉運 手官 大元 展開 人生 撰文 亞芳 生涯 大半 時間 ...  \n",
       "3  中職 冬盟 展現 打擊 天賦 統一 獅何 恆佑 潛力股 衝刺 撰文 鄧心 何恆佑 教練 公認...  \n",
       "4  尼克 無懼 逆境 加速 向前 攻防 進入 精英 級別 紐約 尼克 最近 連勝 勝敗 站上 東...  "
      ]
     },
     "execution_count": 10,
     "metadata": {},
     "output_type": "execute_result"
    }
   ],
   "source": [
    "udn[\"words\"] = udn[\"content\"].apply(getToken).map(\" \".join)\n",
    "udn.head()"
   ]
  },
  {
   "attachments": {},
   "cell_type": "markdown",
   "metadata": {},
   "source": [
    "### 2.3 資料集基本檢視"
   ]
  },
  {
   "cell_type": "markdown",
   "metadata": {},
   "source": [
    "檢視資料內容"
   ]
  },
  {
   "cell_type": "code",
   "execution_count": 11,
   "metadata": {},
   "outputs": [
    {
     "name": "stdout",
     "output_type": "stream",
     "text": [
      "total posts: 6531\n",
      "category: \n",
      "artCatagory\n",
      "股市    1961\n",
      "兩岸    1670\n",
      "全球    1614\n",
      "運動    1286\n",
      "Name: count, dtype: int64\n"
     ]
    }
   ],
   "source": [
    "print(f\"total posts: {len(udn['artUrl'].unique())}\")\n",
    "print(f\"category: \\n{udn['artCatagory'].value_counts()}\")\n"
   ]
  },
  {
   "attachments": {},
   "cell_type": "markdown",
   "metadata": {},
   "source": [
    "## 3. 分類模型的訓練流程\n",
    "### 3.1 根據7:3的比例切分資料集\n",
    "利用 sklearn 中的 train_test_split 函數將 `raw_data` 隨機切成 7:3，設置 random_state 讓每次切分的結果一致。`y_train`和`y_test`分別為訓練資料和測試資料的預測目標。"
   ]
  },
  {
   "cell_type": "code",
   "execution_count": 12,
   "metadata": {},
   "outputs": [
    {
     "name": "stdout",
     "output_type": "stream",
     "text": [
      "2139    日本 利用 官股 銀行 億美元 強化 晶片 電池 供應鏈 日經 新聞報導 官股 背景 日本 ...\n",
      "1916    一年 穿次 衣服 一次 英女 聲稱 羊毛 結構 特殊 多久 一次 衣服 近日 外媒 報導 英...\n",
      "258     大谷 翔平 道奇 首戰 連線 感覺 保護 道奇 日籍 二刀 球星 大谷 翔平 今天 春訓 首...\n",
      "2803    華裔 作家 李翊云 二度 喪子 優等生 普林斯頓大學 車禍 身亡 普林斯頓大學 該校 官網 ...\n",
      "2089    華爾街 股市 漲勢 激勵 亞洲 多地 股市 漲多 跌少 貨幣政策 緊縮 中國 採取 措施 支...\n",
      "Name: words, dtype: object\n",
      "2139    全球\n",
      "1916    全球\n",
      "258     運動\n",
      "2803    全球\n",
      "2089    全球\n",
      "Name: artCatagory, dtype: object\n"
     ]
    }
   ],
   "source": [
    "data = udn\n",
    "X = data[\"words\"]\n",
    "y = data[\"artCatagory\"]\n",
    "\n",
    "# 把整個資料集七三切\n",
    "X_train, X_test, y_train, y_test = train_test_split(\n",
    "    X, y, test_size=0.3, random_state=777\n",
    ")\n",
    "\n",
    "print(X_train.head())\n",
    "print(y_train.head())"
   ]
  },
  {
   "cell_type": "code",
   "execution_count": 13,
   "metadata": {},
   "outputs": [
    {
     "name": "stdout",
     "output_type": "stream",
     "text": [
      "raw data percentage :\n",
      "artCatagory\n",
      "股市    30.026030\n",
      "兩岸    25.570357\n",
      "全球    24.712908\n",
      "運動    19.690706\n",
      "Name: proportion, dtype: float64\n",
      "\n",
      "train percentage :\n",
      "artCatagory\n",
      "股市    29.424634\n",
      "全球    25.443010\n",
      "兩岸    25.202363\n",
      "運動    19.929993\n",
      "Name: proportion, dtype: float64\n",
      "\n",
      "test percentage :\n",
      "artCatagory\n",
      "股市    31.428571\n",
      "兩岸    26.428571\n",
      "全球    23.010204\n",
      "運動    19.132653\n",
      "Name: proportion, dtype: float64\n"
     ]
    }
   ],
   "source": [
    "# 看一下各個資料集切分的比例，應該要一致\n",
    "print(\n",
    "    f\"raw data percentage :\\n{data['artCatagory'].value_counts(normalize=True) * 100}\"\n",
    ")\n",
    "print(f\"\\ntrain percentage :\\n{y_train.value_counts(normalize=True) * 100}\")\n",
    "print(f\"\\ntest percentage :\\n{y_test.value_counts(normalize=True) * 100}\")"
   ]
  },
  {
   "attachments": {},
   "cell_type": "markdown",
   "metadata": {},
   "source": [
    "### 3.2 將文章轉為 DTM\n",
    "\n",
    "DTM(document term matrix) :\n",
    "+ 將不同的文章 (document) 以文章中出現過的字詞(term)表示\n",
    "    + row 是document (文件)\n",
    "    + column 是字詞 (term)\n",
    "    + row 內的數字是出現的字數\n",
    "\n",
    "DTM裡面的值可以有不同的表示方法\n",
    "+ (1) 依據詞頻 (classic BoW)\n",
    "    + 用 `CountVectorizer()`\n",
    "    + unigrams and bigrams\n",
    "    + [sklearn.feature_extraction.text.CountVectorizer](https://scikit-learn.org/stable/modules/generated/sklearn.feature_extraction.text.CountVectorizer.html)\n",
    "+ (2) 依據tfidf (advanced variant of BoW)\n",
    "    + 篩選出現次數大於10的字\n",
    "    + 用 `TfidfVectorizer()`\n",
    "    + [sklearn.feature_extraction.text.TfidfVectorizer](https://scikit-learn.org/stable/modules/generated/sklearn.feature_extraction.text.CountVectorizer.html)\n",
    "+ 常用參數介紹\n",
    "    + max_features: 取 詞頻 / tfidf 前多少的字"
   ]
  },
  {
   "attachments": {},
   "cell_type": "markdown",
   "metadata": {},
   "source": [
    "### 3.3 套入正式的資料集\n",
    "+  模型訓練範例: logistic regression + cv tokenizer"
   ]
  },
  {
   "cell_type": "code",
   "execution_count": 14,
   "metadata": {},
   "outputs": [
    {
     "name": "stdout",
     "output_type": "stream",
     "text": [
      "CountVectorizer(max_features=1000)\n"
     ]
    }
   ],
   "source": [
    "vectorizer = CountVectorizer(max_features=1000)\n",
    "print(vectorizer)"
   ]
  },
  {
   "cell_type": "code",
   "execution_count": 15,
   "metadata": {},
   "outputs": [
    {
     "data": {
      "text/plain": [
       "2139    日本 利用 官股 銀行 億美元 強化 晶片 電池 供應鏈 日經 新聞報導 官股 背景 日本 ...\n",
       "1916    一年 穿次 衣服 一次 英女 聲稱 羊毛 結構 特殊 多久 一次 衣服 近日 外媒 報導 英...\n",
       "258     大谷 翔平 道奇 首戰 連線 感覺 保護 道奇 日籍 二刀 球星 大谷 翔平 今天 春訓 首...\n",
       "2803    華裔 作家 李翊云 二度 喪子 優等生 普林斯頓大學 車禍 身亡 普林斯頓大學 該校 官網 ...\n",
       "2089    華爾街 股市 漲勢 激勵 亞洲 多地 股市 漲多 跌少 貨幣政策 緊縮 中國 採取 措施 支...\n",
       "Name: words, dtype: object"
      ]
     },
     "execution_count": 15,
     "metadata": {},
     "output_type": "execute_result"
    }
   ],
   "source": [
    "X_train.head()"
   ]
  },
  {
   "cell_type": "code",
   "execution_count": 16,
   "metadata": {},
   "outputs": [
    {
     "data": {
      "text/plain": [
       "<4571x1000 sparse matrix of type '<class 'numpy.int64'>'\n",
       "\twith 250637 stored elements in Compressed Sparse Row format>"
      ]
     },
     "execution_count": 16,
     "metadata": {},
     "output_type": "execute_result"
    }
   ],
   "source": [
    "vectorizer.fit(X_train)\n",
    "vec_train = vectorizer.transform(X_train)\n",
    "vec_train"
   ]
  },
  {
   "cell_type": "code",
   "execution_count": 17,
   "metadata": {},
   "outputs": [
    {
     "data": {
      "text/plain": [
       "array([[0, 0, 0, ..., 1, 0, 0],\n",
       "       [0, 0, 2, ..., 0, 0, 0],\n",
       "       [1, 0, 0, ..., 0, 0, 0],\n",
       "       ...,\n",
       "       [0, 0, 0, ..., 0, 0, 2],\n",
       "       [3, 0, 0, ..., 0, 0, 0],\n",
       "       [0, 0, 0, ..., 0, 0, 0]])"
      ]
     },
     "execution_count": 17,
     "metadata": {},
     "output_type": "execute_result"
    }
   ],
   "source": [
    "### 用 `toarray()` 轉成 numpy array\n",
    "vec_train.toarray()"
   ]
  },
  {
   "cell_type": "code",
   "execution_count": 18,
   "metadata": {},
   "outputs": [
    {
     "name": "stdout",
     "output_type": "stream",
     "text": [
      "['一些' '一位' '一名' '一場' '一定' '一家' '一年' '一度' '一次' '一直']\n"
     ]
    }
   ],
   "source": [
    "# 可用 `fit_transform()` 一次完成\n",
    "vec_train = vectorizer.fit_transform(X_train)\n",
    "print(vectorizer.get_feature_names_out()[:10])\n"
   ]
  },
  {
   "cell_type": "code",
   "execution_count": 19,
   "metadata": {},
   "outputs": [
    {
     "name": "stdout",
     "output_type": "stream",
     "text": [
      "{'日本': 504, '利用': 152, '銀行': 938, '億美元': 109, '強化': 375, '晶片': 517, '電池': 963, '供應鏈': 90, '新聞報導': 492, '政策': 476, '投資': 421, '超過': 868, '日圓': 503, '半導體': 179, '關鍵': 947, '產業': 641, '報導': 270, '指出': 432, '年度': 360, '兩年': 127, '方式': 495, '政府': 474, '提供': 450, '商品': 237, '相關': 679, '資本': 853, '支出': 465, '研發': 685, '基礎': 266, '建設': 368, '支持': 466, '計劃': 817, '期間': 538, '創新': 159, '領域': 978, '主要': 47, '針對': 937, '公司': 128, '減少': 603, '納入': 719, '以來': 74, '平均': 355, '每年': 572, '資金': 859, '近期': 886, '決定': 583, '提高': 456, '車用': 876, '材料': 541, '海外': 596, '獲得': 624, '事業': 58, '獲利': 623, '目標': 672, '鼓勵': 997, '經濟': 731, '安全': 301, '進行': 906, '風險': 982, '成長': 405, '需要': 966, '帶來': 350, '美國': 748, '英國': 782, '擴大': 463, '融資': 795, '滿足': 607, '重大': 929, '轉型': 879, '需求': 965, '一年': 6, '一次': 8, '近日': 885, '一名': 2, '人士': 65, '強調': 376, '具有': 136, '代表': 72, '來自': 87, '表示': 803, '日前': 502, '分享': 146, '過程': 912, '透露': 890, '已經': 342, '這是': 895, '整個': 479, '加入': 162, '之後': 51, '認為': 832, '產生': 642, '完全': 303, '建議': 369, '永續': 582, '應該': 396, '網友': 738, '影片': 378, '留言': 648, '有人': 530, '提出': 451, '大谷': 288, '翔平': 753, '道奇': 913, '感覺': 393, '保護': 95, '球星': 633, '今天': 69, '春訓': 508, '首度': 984, '出賽': 145, '現場': 627, '尤其': 329, '球迷': 634, '問題': 240, '手術': 412, '今年': 70, '球季': 632, '只能': 205, '打擊': 413, '隊友': 954, '一些': 0, '擔任': 461, '先發': 116, '第二': 709, '幫助': 353, '擊敗': 459, '未來': 539, '更是': 520, '落後': 788, '隨後': 956, '比賽': 575, '接受': 442, '訪問': 825, '來說': 88, '重要': 931, '能夠': 771, '上場': 17, '方向': 494, '是否': 511, '球員': 629, '手機': 411, '紀錄': 716, '回到': 247, '官網': 307, '發文': 660, '表達': 804, '原因': 190, '調查': 836, '學生': 300, '發生': 662, '下午': 23, '左右': 339, '當時': 653, '主管': 46, '生活': 637, '發表': 664, '宣布': 310, '這一': 893, '死亡': 571, '事件': 56, '目前': 671, '資源': 856, '部分': 923, '環境': 636, '發布': 658, '提到': 452, '特別': 619, '喜歡': 242, '再次': 138, '服務': 535, '北京': 174, '進入': 904, '大學': 282, '至今': 775, '朋友': 534, '兄弟': 114, '照片': 613, '股市': 765, '亞洲': 59, '中國': 36, '採取': 441, '措施': 449, '市場': 347, '希望': 349, '上海': 20, '企業': 78, '財報': 846, '推動': 446, '多數': 279, '地區': 260, '法新社': 590, '準備': 606, '官員': 305, '最新': 524, '提前': 453, '降息': 950, '影響': 379, '投資人': 422, '保持': 94, '前景': 157, '公告': 129, '香港': 986, '彭博': 377, '呼籲': 231, '股票': 768, '昨天': 509, '股價': 763, '之前': 49, '持有': 429, '大型': 281, '持股': 431, '中央': 37, '繼續': 746, '指數': 433, '增加': 272, '長期': 940, '導致': 325, '持續': 430, '下跌': 26, '市值': 346, '美元': 747, '分析師': 149, '達到': 914, '預期': 974, '上漲': 21, '擔心': 462, '計畫': 818, '漲幅': 608, '新加坡': 489, '東京': 543, '中職': 40, '推出': 445, '台灣': 211, '萬元': 786, '吸引': 228, '一起': 10, '台北': 208, '打造': 414, '活動': 595, '棒球': 549, '努力': 168, '知道': 684, '這項': 898, '賽季': 862, '平台': 354, '數據': 483, '庫存': 364, '國家': 253, '組織': 726, '來到': 85, '業績': 551, '帶動': 351, '產能': 643, '逐步': 891, '回升': 248, '看好': 681, '設備': 826, '有望': 533, '包括': 173, '大廠': 284, '加速': 166, '製程': 805, '了解': 55, '量產': 934, '產品': 640, '景氣': 516, '啟動': 241, '比較': 576, '汽車': 585, '營運': 616, '規模': 811, '法人': 587, '供應': 89, '因應': 250, '客戶': 309, '全球': 122, '龍頭': 999, '業者': 552, '國內': 252, '要求': 808, '設計': 827, '研究': 686, '團體': 259, '科技': 693, '中心': 38, '合作': 218, '先進': 117, '人工智慧': 66, '開幕': 942, '相當': 678, '並未': 33, '授權': 436, '共同': 133, '整體': 481, '蘋果': 791, '建立': 367, '團隊': 258, '之外': 50, '選擇': 918, '輝達': 878, '之間': 52, '製造': 806, '投入': 419, '重新': 930, '核心': 546, '達成': 915, '協議': 182, '可望': 207, '促進': 91, '上述': 22, '生產': 639, '成立': 403, '台積電': 213, '競爭': 706, '提升': 454, '面臨': 969, '挑戰': 434, '年前': 357, '外界': 276, '台股': 214, '國泰': 255, '投信': 418, '董事長': 790, '高點': 996, '留意': 647, '今日': 71, '再度': 137, '後市': 381, '上市公司': 19, '盈餘': 668, '執行長': 264, '消息': 598, '大量': 290, '支撐': 467, '迎來': 883, '加碼': 164, '機會': 560, '領袖': 979, '布局': 348, '配息': 925, '買進': 849, '預估': 973, '單位': 243, '配發': 926, '實際': 316, '金額': 936, '將在': 318, '這次': 896, '呈現': 229, '情況': 389, '確定': 688, '展開': 333, '行情': 797, '台幣': 210, '證交所': 837, '定期': 308, '狀況': 621, '樂觀': 554, '聚焦': 756, '去年': 192, '傳統': 104, '考量': 755, '趨勢': 870, '價格': 107, '突破': 703, '億元': 108, '第一': 708, '台積': 212, '成分股': 398, '包含': 172, '追蹤': 887, '標的': 556, '推升': 447, '不斷': 29, '展望': 331, '營收': 614, '訂單': 816, '空間': 702, '電子': 962, '族群': 500, '基金': 267, '參與': 195, '出現': 142, '名單': 226, '媒體': 297, '最後': 523, '預計': 976, '證實': 839, '球隊': 635, '安排': 302, '調整': 835, '基地': 265, '公布': 130, '顯示': 981, '面對': 968, '投手': 420, '結束': 727, '教練': 478, '負責': 845, '記者': 823, '回應': 249, '訓練': 822, '自由': 774, '壓力': 274, '觀察': 813, '選手': 917, '新聞': 491, '科技股': 694, '大漲': 285, '收盤': 470, '創下': 158, '歷史': 570, '新高': 493, '亮眼': 62, '動能': 170, '美股': 750, '方面': 497, '標準': 555, '進一步': 903, '澳洲': 609, '當局': 652, '透過': 889, '銷售': 939, '能力': 770, '富邦': 313, '勇士': 169, '總教練': 741, '狀態': 620, '避免': 921, '受傷': 201, '展現': 332, '確實': 689, '期待': 536, '表現': 802, '過去': 910, '組合': 725, '遭到': 916, '無法': 611, '最終': 525, '拿下': 428, '分鐘': 150, '對手': 323, '造成': 901, '很大': 380, '一場': 3, '真的': 683, '經驗': 733, '中信': 34, '合併': 219, '毛利率': 578, '稅後': 696, '純益': 720, '每股': 573, '貢獻': 847, '權證': 562, '美軍': 751, '大陸': 291, '對此': 324, '嚴重': 246, '統一': 729, '發言人': 665, '時間': 513, '明顯': 506, '上升': 15, '政治': 475, '菲律賓': 784, '舉行': 778, '首次': 985, '和平': 232, '穩定': 701, '國際': 257, '社會': 690, '年月日': 361, '大規模': 287, '使用': 84, '明星': 505, '賽後': 863, '人員': 64, '奧運': 292, '男子': 646, '項目': 971, '生涯': 638, '一位': 1, '發現': 661, '成功': 399, '拜登': 427, '文件': 485, '報告': 269, '內容': 119, '將會': 319, '批評': 415, '總統': 743, '並不': 32, '位於': 82, '辦公室': 880, '川普': 334, '涉及': 601, '處理': 793, '資訊': 858, '做出': 100, '最高': 527, '資料': 852, '引述': 372, '數量': 484, '不到': 28, '試圖': 831, '告訴': 230, '官方': 306, '已有': 341, '網路': 740, '紛紛': 721, '主席': 45, '習近平': 752, '高層': 990, '當地': 650, '交流': 61, '民眾': 580, '焦點': 612, '意外': 391, '直接': 674, '增長': 273, '這裡': 897, '評論': 830, '金融': 935, '過年': 911, '疫情': 654, '現在': 626, '許多': 828, '以色列': 76, '哈瑪斯': 234, '第季': 710, '反映': 198, '所有': 410, '預測': 975, '下降': 27, '衝突': 801, '符合': 707, '統計': 730, '雙方': 959, '程度': 697, '實施': 314, '限制': 951, '消費': 599, '一度': 7, '戰爭': 406, '加薩': 165, '危機': 187, '估計': 80, '聯準': 758, '專家': 320, '看到': 680, '女子': 293, '全面': 123, '盤中': 670, '掛牌': 440, '受訪': 204, '存在': 298, '技術': 417, '發揮': 659, '應用': 395, '價值': 106, '分析': 148, '議題': 843, '同樣': 224, '看法': 682, '利率': 151, '維持': 736, '商業': 238, '房地產': 409, '態度': 394, '微軟': 385, '當天': 651, '走勢': 866, '會議': 528, '震盪': 967, '受到': 202, '處於': 792, '同意': 222, '禁止': 692, '最佳': 521, '重點': 933, '考慮': 754, '成本': 401, '股息': 766, '大盤': 286, '封關': 317, '覺得': 812, '至少': 776, '關注': 946, '東西': 544, '就業': 330, '工作': 335, '分別': 147, '人民幣': 68, '文章': 488, '城市': 262, '條件': 548, '順利': 972, '合約': 220, '正式': 567, '地方': 261, '連續': 902, '停止': 101, '恢復': 388, '大幅': 283, '民主': 579, '訊息': 820, '共和黨': 134, '美聯社': 749, '人數': 67, '選舉': 920, '聯盟': 759, '附近': 948, '警告': 840, '一直': 9, '取得': 199, '社群': 691, '網站': 739, '開放': 943, '系統': 715, '交易': 60, '本季': 540, '承諾': 416, '終場': 724, '領先': 977, '籃板': 714, '助攻': 167, '得到': 383, '主場': 44, '引起': 371, '韓國': 970, '引發': 370, '水準': 581, '一家': 5, '員工': 235, '董事會': 789, '決議': 584, '現金': 628, '股利': 764, '合計': 221, '計算': 819, '收入': 468, '營業': 615, '利益': 153, '年增': 358, '三大': 14, '行動': 796, '淨利': 602, '有效': 532, '策略': 711, '方案': 496, '挹注': 435, '單季': 244, '穩健': 700, '巴西': 344, '以巴': 75, '總理': 742, '出席': 141, '巴勒斯坦': 343, '聲明': 761, '反對': 197, '中華隊': 42, '資格賽': 855, '成員': 400, '記者會': 824, '賽事': 861, '範圍': 713, '階段': 955, '近年': 884, '更好': 519, '農曆年': 882, '賽程': 865, '杭州': 542, '原本': 191, '延續': 366, '後續': 382, '年輕': 363, '身分': 875, '世界': 31, '各國': 216, '正在': 566, '綜合': 734, '相信': 676, '俄羅斯': 93, '自年': 773, '行為': 799, '警方': 841, '兩人': 124, '關係': 945, '委員會': 295, '元月': 113, '紅盤': 718, '陸續': 953, '同步': 225, '集團': 958, '農曆': 881, '春節': 507, '登場': 655, '廠商': 365, '電動車': 961, '能源': 772, '總經理': 744, '最大': 522, '綠色': 735, '智慧': 518, '優於': 112, '受惠': 203, '去年同期': 193, '上半年': 16, '重返': 932, '門票': 941, '好手': 294, '南韓': 184, '爭取': 618, '巴黎': 345, '中華': 41, '資格': 854, '尋求': 322, '參賽': 196, '冠軍': 139, '體育': 987, '前往': 156, '參加': 194, '衛星': 800, '成為': 402, '發展': 657, '工程': 338, '機構': 561, '協會': 181, '泰國': 594, '威脅': 296, '路透社': 874, '高度': 991, '立即': 704, '用於': 644, '累積': 722, '攻擊': 473, '不錯': 30, '機制': 558, '年底': 359, '規劃': 809, '德國': 386, '信心': 97, '執行': 263, '升級': 178, '高達': 994, '評估': 829, '討論': 821, '規定': 810, '議員': 842, '積電': 699, '經營': 732, '說法': 834, '快速': 387, '工廠': 336, '西方': 807, '軍事': 877, '資產': 857, '這場': 894, '巨蛋': 340, '舉辦': 779, '進場': 905, '運動': 909, '電視': 964, '移民': 695, '兩個': 125, '退休': 888, '感到': 392, '當前': 649, '路透': 873, '成交': 397, '個股': 98, '高階': 995, '因素': 251, '伺服器': 81, '北韓': 176, '戰略': 407, '加強': 163, '烏克蘭': 610, '援助': 457, '勝利': 171, '強勢': 374, '印度': 186, '商機': 239, '部門': 924, '旗下': 501, '品牌': 233, '萬美元': 787, '強勁': 373, '消費者': 600, '模式': 557, '超級': 867, '年來': 356, '實現': 315, '全國': 121, '累計': 723, '新增': 490, '健康': 102, '推進': 448, '功能': 161, '完成': 304, '任務': 77, '故事': 477, '主題': 48, '職棒': 762, '孩子': 299, '堅持': 268, '下半年': 24, '擁有': 458, '育成': 769, '足球': 871, '梅西': 547, '一定': 4, '傳出': 103, '一項': 11, '一點': 12, '家庭': 312, '公開': 132, '多個': 278, '購買': 860, '協助': 180, '法院': 592, '掌握': 437, '尚未': 328, '出口': 140, '中共': 35, '貿易': 851, '逐漸': 892, '時代': 512, '最近': 526, '拒絕': 426, '下滑': 25, '治療': 586, '之際': 53, '戰績': 408, '成績': 404, '昨日': 510, '出貨': 143, '跌幅': 872, '此次': 569, '內部': 120, '印尼': 185, '龍年': 998, '證券': 838, '行業': 798, '復甦': 384, '投資者': 423, '優化': 111, '改善': 471, '有所': 531, '通訊': 899, '優勢': 110, '工業': 337, '高於': 993, '速度': 900, '低於': 83, '球團': 630, '排名': 438, '操作': 460, '積極': 698, '即時': 188, '公里': 131, '保障': 96, '月底': 529, '比重': 577, '主任': 43, '機場': 559, '維護': 737, '航空': 780, '也將': 54, '目標價': 673, '以上': 73, '百分點': 667, '降低': 949, '發行': 663, '股東': 767, '創造': 160, '華為': 783, '此前': 568, '管理': 712, '聯合': 757, '取消': 200, '說明': 833, '雲端': 960, '醫療': 927, '波動': 593, '提醒': 455, '變化': 844, '北約': 175, '法案': 591, '白宮': 666, '聯邦': 760, '普亭': 515, '史上': 215, '唯一': 236, '俄國': 92, '國會': 254, '外國': 275, '貸款': 850, '業務': 550, '紅海': 717, '解決': 814, '相對': 677, '伊朗': 79, '改變': 472, '旅遊': 499, '遊客': 907, '邊境': 922, '醫院': 928, '歐洲': 564, '陷入': 952, '歐盟': 565, '歐元': 563, '中方': 39, '題材': 980, '則是': 155, '區域': 177, '數位': 482, '家人': 311, '法國': 588, '測試': 604, '想要': 390, '遊戲': 908, '小時': 326, '時間表': 514, '集中': 957, '小米': 327, '出貨量': 144, '樂天': 553, '球場': 631, '給予': 728, '先前': 115, '開發': 944, '債券': 105, '幅度': 352, '報酬率': 271, '上市': 18, '來源': 86, '確保': 687, '年減': 362, '召開': 206, '向上': 227, '制裁': 154, '文化': 486, '飛機': 983, '法律': 589, '監管': 669, '控制': 444, '外資': 277, '接近': 443, '各地': 217, '抗議': 425, '國王': 256, '臺灣': 777, '王毅': 625, '大選': 289, '專業': 321, '爆發': 617, '解決方案': 815, '整合': 480, '南部': 183, '旅客': 498, '萬人': 785, '夥伴': 280, '倫斯基': 99, '三分球': 13, '事情': 57, '即時比分': 189, '賽況': 864, '文字': 487, '直播': 675, '排行': 439, '獅隊': 622, '共識': 135, '選秀': 919, '柯瑞': 545, '兩岸': 126, '台商': 209, '體驗': 988, '同期': 223, '港府': 605, '虧損': 794, '比亞迪': 574, '單月': 245, '人口': 63, '高中': 989, '立法': 705, '發動': 656, '績效': 745, '投顧': 424, '兔年': 118, '海警': 597, '支付': 464, '期貨': 537, '收益': 469, '高息': 992, '申請': 645, '買超': 848, '越南': 869, '芯片': 781}\n"
     ]
    },
    {
     "data": {
      "text/plain": [
       "0"
      ]
     },
     "execution_count": 19,
     "metadata": {},
     "output_type": "execute_result"
    }
   ],
   "source": [
    "# fit 完後，可以用 `vocabulary_` 看到詞的 feature index\n",
    "print(vectorizer.vocabulary_)\n",
    "vectorizer.vocabulary_['一些']"
   ]
  },
  {
   "cell_type": "code",
   "execution_count": 20,
   "metadata": {},
   "outputs": [
    {
     "name": "stdout",
     "output_type": "stream",
     "text": [
      "(4571, 1000)\n",
      "(1960, 1000)\n"
     ]
    }
   ],
   "source": [
    "# 不需重新 `fit()` data，因前面已經 `fit()` 過了\n",
    "# 只需將測試數據使用之前訓練好的 vectorizer 轉換為相同的特徵表示形式，而不需要重新fit。\n",
    "# 如果對測試數據再次 fit vectorizer，可能會導致使用了測試數據的信息，進而導致模型的不穩定性和過度擬合的問題。\n",
    "vec_test = vectorizer.transform(X_test)\n",
    "print(vec_train.shape)\n",
    "print(vec_test.shape)"
   ]
  },
  {
   "cell_type": "code",
   "execution_count": 21,
   "metadata": {},
   "outputs": [
    {
     "data": {
      "text/html": [
       "<style>#sk-container-id-1 {\n",
       "  /* Definition of color scheme common for light and dark mode */\n",
       "  --sklearn-color-text: black;\n",
       "  --sklearn-color-line: gray;\n",
       "  /* Definition of color scheme for unfitted estimators */\n",
       "  --sklearn-color-unfitted-level-0: #fff5e6;\n",
       "  --sklearn-color-unfitted-level-1: #f6e4d2;\n",
       "  --sklearn-color-unfitted-level-2: #ffe0b3;\n",
       "  --sklearn-color-unfitted-level-3: chocolate;\n",
       "  /* Definition of color scheme for fitted estimators */\n",
       "  --sklearn-color-fitted-level-0: #f0f8ff;\n",
       "  --sklearn-color-fitted-level-1: #d4ebff;\n",
       "  --sklearn-color-fitted-level-2: #b3dbfd;\n",
       "  --sklearn-color-fitted-level-3: cornflowerblue;\n",
       "\n",
       "  /* Specific color for light theme */\n",
       "  --sklearn-color-text-on-default-background: var(--sg-text-color, var(--theme-code-foreground, var(--jp-content-font-color1, black)));\n",
       "  --sklearn-color-background: var(--sg-background-color, var(--theme-background, var(--jp-layout-color0, white)));\n",
       "  --sklearn-color-border-box: var(--sg-text-color, var(--theme-code-foreground, var(--jp-content-font-color1, black)));\n",
       "  --sklearn-color-icon: #696969;\n",
       "\n",
       "  @media (prefers-color-scheme: dark) {\n",
       "    /* Redefinition of color scheme for dark theme */\n",
       "    --sklearn-color-text-on-default-background: var(--sg-text-color, var(--theme-code-foreground, var(--jp-content-font-color1, white)));\n",
       "    --sklearn-color-background: var(--sg-background-color, var(--theme-background, var(--jp-layout-color0, #111)));\n",
       "    --sklearn-color-border-box: var(--sg-text-color, var(--theme-code-foreground, var(--jp-content-font-color1, white)));\n",
       "    --sklearn-color-icon: #878787;\n",
       "  }\n",
       "}\n",
       "\n",
       "#sk-container-id-1 {\n",
       "  color: var(--sklearn-color-text);\n",
       "}\n",
       "\n",
       "#sk-container-id-1 pre {\n",
       "  padding: 0;\n",
       "}\n",
       "\n",
       "#sk-container-id-1 input.sk-hidden--visually {\n",
       "  border: 0;\n",
       "  clip: rect(1px 1px 1px 1px);\n",
       "  clip: rect(1px, 1px, 1px, 1px);\n",
       "  height: 1px;\n",
       "  margin: -1px;\n",
       "  overflow: hidden;\n",
       "  padding: 0;\n",
       "  position: absolute;\n",
       "  width: 1px;\n",
       "}\n",
       "\n",
       "#sk-container-id-1 div.sk-dashed-wrapped {\n",
       "  border: 1px dashed var(--sklearn-color-line);\n",
       "  margin: 0 0.4em 0.5em 0.4em;\n",
       "  box-sizing: border-box;\n",
       "  padding-bottom: 0.4em;\n",
       "  background-color: var(--sklearn-color-background);\n",
       "}\n",
       "\n",
       "#sk-container-id-1 div.sk-container {\n",
       "  /* jupyter's `normalize.less` sets `[hidden] { display: none; }`\n",
       "     but bootstrap.min.css set `[hidden] { display: none !important; }`\n",
       "     so we also need the `!important` here to be able to override the\n",
       "     default hidden behavior on the sphinx rendered scikit-learn.org.\n",
       "     See: https://github.com/scikit-learn/scikit-learn/issues/21755 */\n",
       "  display: inline-block !important;\n",
       "  position: relative;\n",
       "}\n",
       "\n",
       "#sk-container-id-1 div.sk-text-repr-fallback {\n",
       "  display: none;\n",
       "}\n",
       "\n",
       "div.sk-parallel-item,\n",
       "div.sk-serial,\n",
       "div.sk-item {\n",
       "  /* draw centered vertical line to link estimators */\n",
       "  background-image: linear-gradient(var(--sklearn-color-text-on-default-background), var(--sklearn-color-text-on-default-background));\n",
       "  background-size: 2px 100%;\n",
       "  background-repeat: no-repeat;\n",
       "  background-position: center center;\n",
       "}\n",
       "\n",
       "/* Parallel-specific style estimator block */\n",
       "\n",
       "#sk-container-id-1 div.sk-parallel-item::after {\n",
       "  content: \"\";\n",
       "  width: 100%;\n",
       "  border-bottom: 2px solid var(--sklearn-color-text-on-default-background);\n",
       "  flex-grow: 1;\n",
       "}\n",
       "\n",
       "#sk-container-id-1 div.sk-parallel {\n",
       "  display: flex;\n",
       "  align-items: stretch;\n",
       "  justify-content: center;\n",
       "  background-color: var(--sklearn-color-background);\n",
       "  position: relative;\n",
       "}\n",
       "\n",
       "#sk-container-id-1 div.sk-parallel-item {\n",
       "  display: flex;\n",
       "  flex-direction: column;\n",
       "}\n",
       "\n",
       "#sk-container-id-1 div.sk-parallel-item:first-child::after {\n",
       "  align-self: flex-end;\n",
       "  width: 50%;\n",
       "}\n",
       "\n",
       "#sk-container-id-1 div.sk-parallel-item:last-child::after {\n",
       "  align-self: flex-start;\n",
       "  width: 50%;\n",
       "}\n",
       "\n",
       "#sk-container-id-1 div.sk-parallel-item:only-child::after {\n",
       "  width: 0;\n",
       "}\n",
       "\n",
       "/* Serial-specific style estimator block */\n",
       "\n",
       "#sk-container-id-1 div.sk-serial {\n",
       "  display: flex;\n",
       "  flex-direction: column;\n",
       "  align-items: center;\n",
       "  background-color: var(--sklearn-color-background);\n",
       "  padding-right: 1em;\n",
       "  padding-left: 1em;\n",
       "}\n",
       "\n",
       "\n",
       "/* Toggleable style: style used for estimator/Pipeline/ColumnTransformer box that is\n",
       "clickable and can be expanded/collapsed.\n",
       "- Pipeline and ColumnTransformer use this feature and define the default style\n",
       "- Estimators will overwrite some part of the style using the `sk-estimator` class\n",
       "*/\n",
       "\n",
       "/* Pipeline and ColumnTransformer style (default) */\n",
       "\n",
       "#sk-container-id-1 div.sk-toggleable {\n",
       "  /* Default theme specific background. It is overwritten whether we have a\n",
       "  specific estimator or a Pipeline/ColumnTransformer */\n",
       "  background-color: var(--sklearn-color-background);\n",
       "}\n",
       "\n",
       "/* Toggleable label */\n",
       "#sk-container-id-1 label.sk-toggleable__label {\n",
       "  cursor: pointer;\n",
       "  display: block;\n",
       "  width: 100%;\n",
       "  margin-bottom: 0;\n",
       "  padding: 0.5em;\n",
       "  box-sizing: border-box;\n",
       "  text-align: center;\n",
       "}\n",
       "\n",
       "#sk-container-id-1 label.sk-toggleable__label-arrow:before {\n",
       "  /* Arrow on the left of the label */\n",
       "  content: \"▸\";\n",
       "  float: left;\n",
       "  margin-right: 0.25em;\n",
       "  color: var(--sklearn-color-icon);\n",
       "}\n",
       "\n",
       "#sk-container-id-1 label.sk-toggleable__label-arrow:hover:before {\n",
       "  color: var(--sklearn-color-text);\n",
       "}\n",
       "\n",
       "/* Toggleable content - dropdown */\n",
       "\n",
       "#sk-container-id-1 div.sk-toggleable__content {\n",
       "  max-height: 0;\n",
       "  max-width: 0;\n",
       "  overflow: hidden;\n",
       "  text-align: left;\n",
       "  /* unfitted */\n",
       "  background-color: var(--sklearn-color-unfitted-level-0);\n",
       "}\n",
       "\n",
       "#sk-container-id-1 div.sk-toggleable__content.fitted {\n",
       "  /* fitted */\n",
       "  background-color: var(--sklearn-color-fitted-level-0);\n",
       "}\n",
       "\n",
       "#sk-container-id-1 div.sk-toggleable__content pre {\n",
       "  margin: 0.2em;\n",
       "  border-radius: 0.25em;\n",
       "  color: var(--sklearn-color-text);\n",
       "  /* unfitted */\n",
       "  background-color: var(--sklearn-color-unfitted-level-0);\n",
       "}\n",
       "\n",
       "#sk-container-id-1 div.sk-toggleable__content.fitted pre {\n",
       "  /* unfitted */\n",
       "  background-color: var(--sklearn-color-fitted-level-0);\n",
       "}\n",
       "\n",
       "#sk-container-id-1 input.sk-toggleable__control:checked~div.sk-toggleable__content {\n",
       "  /* Expand drop-down */\n",
       "  max-height: 200px;\n",
       "  max-width: 100%;\n",
       "  overflow: auto;\n",
       "}\n",
       "\n",
       "#sk-container-id-1 input.sk-toggleable__control:checked~label.sk-toggleable__label-arrow:before {\n",
       "  content: \"▾\";\n",
       "}\n",
       "\n",
       "/* Pipeline/ColumnTransformer-specific style */\n",
       "\n",
       "#sk-container-id-1 div.sk-label input.sk-toggleable__control:checked~label.sk-toggleable__label {\n",
       "  color: var(--sklearn-color-text);\n",
       "  background-color: var(--sklearn-color-unfitted-level-2);\n",
       "}\n",
       "\n",
       "#sk-container-id-1 div.sk-label.fitted input.sk-toggleable__control:checked~label.sk-toggleable__label {\n",
       "  background-color: var(--sklearn-color-fitted-level-2);\n",
       "}\n",
       "\n",
       "/* Estimator-specific style */\n",
       "\n",
       "/* Colorize estimator box */\n",
       "#sk-container-id-1 div.sk-estimator input.sk-toggleable__control:checked~label.sk-toggleable__label {\n",
       "  /* unfitted */\n",
       "  background-color: var(--sklearn-color-unfitted-level-2);\n",
       "}\n",
       "\n",
       "#sk-container-id-1 div.sk-estimator.fitted input.sk-toggleable__control:checked~label.sk-toggleable__label {\n",
       "  /* fitted */\n",
       "  background-color: var(--sklearn-color-fitted-level-2);\n",
       "}\n",
       "\n",
       "#sk-container-id-1 div.sk-label label.sk-toggleable__label,\n",
       "#sk-container-id-1 div.sk-label label {\n",
       "  /* The background is the default theme color */\n",
       "  color: var(--sklearn-color-text-on-default-background);\n",
       "}\n",
       "\n",
       "/* On hover, darken the color of the background */\n",
       "#sk-container-id-1 div.sk-label:hover label.sk-toggleable__label {\n",
       "  color: var(--sklearn-color-text);\n",
       "  background-color: var(--sklearn-color-unfitted-level-2);\n",
       "}\n",
       "\n",
       "/* Label box, darken color on hover, fitted */\n",
       "#sk-container-id-1 div.sk-label.fitted:hover label.sk-toggleable__label.fitted {\n",
       "  color: var(--sklearn-color-text);\n",
       "  background-color: var(--sklearn-color-fitted-level-2);\n",
       "}\n",
       "\n",
       "/* Estimator label */\n",
       "\n",
       "#sk-container-id-1 div.sk-label label {\n",
       "  font-family: monospace;\n",
       "  font-weight: bold;\n",
       "  display: inline-block;\n",
       "  line-height: 1.2em;\n",
       "}\n",
       "\n",
       "#sk-container-id-1 div.sk-label-container {\n",
       "  text-align: center;\n",
       "}\n",
       "\n",
       "/* Estimator-specific */\n",
       "#sk-container-id-1 div.sk-estimator {\n",
       "  font-family: monospace;\n",
       "  border: 1px dotted var(--sklearn-color-border-box);\n",
       "  border-radius: 0.25em;\n",
       "  box-sizing: border-box;\n",
       "  margin-bottom: 0.5em;\n",
       "  /* unfitted */\n",
       "  background-color: var(--sklearn-color-unfitted-level-0);\n",
       "}\n",
       "\n",
       "#sk-container-id-1 div.sk-estimator.fitted {\n",
       "  /* fitted */\n",
       "  background-color: var(--sklearn-color-fitted-level-0);\n",
       "}\n",
       "\n",
       "/* on hover */\n",
       "#sk-container-id-1 div.sk-estimator:hover {\n",
       "  /* unfitted */\n",
       "  background-color: var(--sklearn-color-unfitted-level-2);\n",
       "}\n",
       "\n",
       "#sk-container-id-1 div.sk-estimator.fitted:hover {\n",
       "  /* fitted */\n",
       "  background-color: var(--sklearn-color-fitted-level-2);\n",
       "}\n",
       "\n",
       "/* Specification for estimator info (e.g. \"i\" and \"?\") */\n",
       "\n",
       "/* Common style for \"i\" and \"?\" */\n",
       "\n",
       ".sk-estimator-doc-link,\n",
       "a:link.sk-estimator-doc-link,\n",
       "a:visited.sk-estimator-doc-link {\n",
       "  float: right;\n",
       "  font-size: smaller;\n",
       "  line-height: 1em;\n",
       "  font-family: monospace;\n",
       "  background-color: var(--sklearn-color-background);\n",
       "  border-radius: 1em;\n",
       "  height: 1em;\n",
       "  width: 1em;\n",
       "  text-decoration: none !important;\n",
       "  margin-left: 1ex;\n",
       "  /* unfitted */\n",
       "  border: var(--sklearn-color-unfitted-level-1) 1pt solid;\n",
       "  color: var(--sklearn-color-unfitted-level-1);\n",
       "}\n",
       "\n",
       ".sk-estimator-doc-link.fitted,\n",
       "a:link.sk-estimator-doc-link.fitted,\n",
       "a:visited.sk-estimator-doc-link.fitted {\n",
       "  /* fitted */\n",
       "  border: var(--sklearn-color-fitted-level-1) 1pt solid;\n",
       "  color: var(--sklearn-color-fitted-level-1);\n",
       "}\n",
       "\n",
       "/* On hover */\n",
       "div.sk-estimator:hover .sk-estimator-doc-link:hover,\n",
       ".sk-estimator-doc-link:hover,\n",
       "div.sk-label-container:hover .sk-estimator-doc-link:hover,\n",
       ".sk-estimator-doc-link:hover {\n",
       "  /* unfitted */\n",
       "  background-color: var(--sklearn-color-unfitted-level-3);\n",
       "  color: var(--sklearn-color-background);\n",
       "  text-decoration: none;\n",
       "}\n",
       "\n",
       "div.sk-estimator.fitted:hover .sk-estimator-doc-link.fitted:hover,\n",
       ".sk-estimator-doc-link.fitted:hover,\n",
       "div.sk-label-container:hover .sk-estimator-doc-link.fitted:hover,\n",
       ".sk-estimator-doc-link.fitted:hover {\n",
       "  /* fitted */\n",
       "  background-color: var(--sklearn-color-fitted-level-3);\n",
       "  color: var(--sklearn-color-background);\n",
       "  text-decoration: none;\n",
       "}\n",
       "\n",
       "/* Span, style for the box shown on hovering the info icon */\n",
       ".sk-estimator-doc-link span {\n",
       "  display: none;\n",
       "  z-index: 9999;\n",
       "  position: relative;\n",
       "  font-weight: normal;\n",
       "  right: .2ex;\n",
       "  padding: .5ex;\n",
       "  margin: .5ex;\n",
       "  width: min-content;\n",
       "  min-width: 20ex;\n",
       "  max-width: 50ex;\n",
       "  color: var(--sklearn-color-text);\n",
       "  box-shadow: 2pt 2pt 4pt #999;\n",
       "  /* unfitted */\n",
       "  background: var(--sklearn-color-unfitted-level-0);\n",
       "  border: .5pt solid var(--sklearn-color-unfitted-level-3);\n",
       "}\n",
       "\n",
       ".sk-estimator-doc-link.fitted span {\n",
       "  /* fitted */\n",
       "  background: var(--sklearn-color-fitted-level-0);\n",
       "  border: var(--sklearn-color-fitted-level-3);\n",
       "}\n",
       "\n",
       ".sk-estimator-doc-link:hover span {\n",
       "  display: block;\n",
       "}\n",
       "\n",
       "/* \"?\"-specific style due to the `<a>` HTML tag */\n",
       "\n",
       "#sk-container-id-1 a.estimator_doc_link {\n",
       "  float: right;\n",
       "  font-size: 1rem;\n",
       "  line-height: 1em;\n",
       "  font-family: monospace;\n",
       "  background-color: var(--sklearn-color-background);\n",
       "  border-radius: 1rem;\n",
       "  height: 1rem;\n",
       "  width: 1rem;\n",
       "  text-decoration: none;\n",
       "  /* unfitted */\n",
       "  color: var(--sklearn-color-unfitted-level-1);\n",
       "  border: var(--sklearn-color-unfitted-level-1) 1pt solid;\n",
       "}\n",
       "\n",
       "#sk-container-id-1 a.estimator_doc_link.fitted {\n",
       "  /* fitted */\n",
       "  border: var(--sklearn-color-fitted-level-1) 1pt solid;\n",
       "  color: var(--sklearn-color-fitted-level-1);\n",
       "}\n",
       "\n",
       "/* On hover */\n",
       "#sk-container-id-1 a.estimator_doc_link:hover {\n",
       "  /* unfitted */\n",
       "  background-color: var(--sklearn-color-unfitted-level-3);\n",
       "  color: var(--sklearn-color-background);\n",
       "  text-decoration: none;\n",
       "}\n",
       "\n",
       "#sk-container-id-1 a.estimator_doc_link.fitted:hover {\n",
       "  /* fitted */\n",
       "  background-color: var(--sklearn-color-fitted-level-3);\n",
       "}\n",
       "</style><div id=\"sk-container-id-1\" class=\"sk-top-container\"><div class=\"sk-text-repr-fallback\"><pre>LogisticRegression()</pre><b>In a Jupyter environment, please rerun this cell to show the HTML representation or trust the notebook. <br />On GitHub, the HTML representation is unable to render, please try loading this page with nbviewer.org.</b></div><div class=\"sk-container\" hidden><div class=\"sk-item\"><div class=\"sk-estimator fitted sk-toggleable\"><input class=\"sk-toggleable__control sk-hidden--visually\" id=\"sk-estimator-id-1\" type=\"checkbox\" checked><label for=\"sk-estimator-id-1\" class=\"sk-toggleable__label fitted sk-toggleable__label-arrow fitted\">&nbsp;&nbsp;LogisticRegression<a class=\"sk-estimator-doc-link fitted\" rel=\"noreferrer\" target=\"_blank\" href=\"https://scikit-learn.org/1.4/modules/generated/sklearn.linear_model.LogisticRegression.html\">?<span>Documentation for LogisticRegression</span></a><span class=\"sk-estimator-doc-link fitted\">i<span>Fitted</span></span></label><div class=\"sk-toggleable__content fitted\"><pre>LogisticRegression()</pre></div> </div></div></div></div>"
      ],
      "text/plain": [
       "LogisticRegression()"
      ]
     },
     "execution_count": 21,
     "metadata": {},
     "output_type": "execute_result"
    }
   ],
   "source": [
    "# 建立分類器模型\n",
    "clf = LogisticRegression()\n",
    "clf.fit(vec_train, y_train)\n",
    "clf"
   ]
  },
  {
   "cell_type": "code",
   "execution_count": 22,
   "metadata": {},
   "outputs": [
    {
     "data": {
      "text/plain": [
       "array(['全球', '兩岸', '股市', '運動'], dtype=object)"
      ]
     },
     "execution_count": 22,
     "metadata": {},
     "output_type": "execute_result"
    }
   ],
   "source": [
    "clf.classes_"
   ]
  },
  {
   "cell_type": "code",
   "execution_count": 23,
   "metadata": {},
   "outputs": [
    {
     "name": "stdout",
     "output_type": "stream",
     "text": [
      "['兩岸' '運動' '運動' '運動' '兩岸' '兩岸' '全球' '兩岸' '全球' '兩岸']\n"
     ]
    }
   ],
   "source": [
    "y_pred = clf.predict(vec_test)\n",
    "y_pred_proba = clf.predict_proba(vec_test)\n",
    "print(y_pred[:10])"
   ]
  },
  {
   "cell_type": "code",
   "execution_count": 24,
   "metadata": {},
   "outputs": [
    {
     "name": "stdout",
     "output_type": "stream",
     "text": [
      "(1960, 4)\n"
     ]
    },
    {
     "data": {
      "text/plain": [
       "array([6.02213690e-08, 9.99831314e-01, 1.68622602e-04, 2.68650665e-09])"
      ]
     },
     "execution_count": 24,
     "metadata": {},
     "output_type": "execute_result"
    }
   ],
   "source": [
    "print(y_pred_proba.shape)\n",
    "y_pred_proba[0,:]"
   ]
  },
  {
   "cell_type": "code",
   "execution_count": 25,
   "metadata": {},
   "outputs": [
    {
     "name": "stdout",
     "output_type": "stream",
     "text": [
      "              precision    recall  f1-score   support\n",
      "\n",
      "          全球       0.88      0.90      0.89       451\n",
      "          兩岸       0.91      0.90      0.91       518\n",
      "          股市       0.98      0.97      0.97       616\n",
      "          運動       0.98      0.98      0.98       375\n",
      "\n",
      "    accuracy                           0.94      1960\n",
      "   macro avg       0.94      0.94      0.94      1960\n",
      "weighted avg       0.94      0.94      0.94      1960\n",
      "\n"
     ]
    }
   ],
   "source": [
    "## Accuracy, Precision, Recall, F1-score\n",
    "print(classification_report(y_test, y_pred))"
   ]
  },
  {
   "cell_type": "code",
   "execution_count": 26,
   "metadata": {},
   "outputs": [
    {
     "data": {
      "text/plain": [
       "array([[405,  39,   5,   2],\n",
       "       [ 38, 467,   8,   5],\n",
       "       [ 13,   5, 598,   0],\n",
       "       [  6,   2,   0, 367]])"
      ]
     },
     "execution_count": 26,
     "metadata": {},
     "output_type": "execute_result"
    }
   ],
   "source": [
    "classes = clf.classes_\n",
    "cm = confusion_matrix(y_test, y_pred)\n",
    "cm"
   ]
  },
  {
   "cell_type": "code",
   "execution_count": 27,
   "metadata": {},
   "outputs": [
    {
     "data": {
      "text/plain": [
       "(array([0.5, 1.5, 2.5, 3.5]),\n",
       " [Text(0, 0.5, '全球'),\n",
       "  Text(0, 1.5, '兩岸'),\n",
       "  Text(0, 2.5, '股市'),\n",
       "  Text(0, 3.5, '運動')])"
      ]
     },
     "execution_count": 27,
     "metadata": {},
     "output_type": "execute_result"
    },
    {
     "data": {
      "image/png": "[encoded data removed]",
      "text/plain": [
       "<Figure size 640x480 with 1 Axes>"
      ]
     },
     "metadata": {},
     "output_type": "display_data"
    }
   ],
   "source": [
    "## Plot confusion matrix\n",
    "fig, ax = plt.subplots()\n",
    "sns.heatmap(cm, annot=True, fmt=\"d\", ax=ax, cmap=plt.cm.Blues, cbar=False)\n",
    "ax.set(\n",
    "    xlabel=\"Pred\",\n",
    "    ylabel=\"True\",\n",
    "    xticklabels=classes,\n",
    "    yticklabels=classes,\n",
    "    title=\"Confusion matrix\",\n",
    ")\n",
    "plt.yticks(rotation=0)"
   ]
  },
  {
   "attachments": {},
   "cell_type": "markdown",
   "metadata": {},
   "source": [
    "### 3.4 tfidf"
   ]
  },
  {
   "attachments": {},
   "cell_type": "markdown",
   "metadata": {},
   "source": [
    "改試試看使用 tf-idf 的 DTM 來代表文章，訓練分類模型的效果"
   ]
  },
  {
   "cell_type": "code",
   "execution_count": 28,
   "metadata": {},
   "outputs": [
    {
     "data": {
      "text/plain": [
       "array([0.        , 0.        , 0.        , 0.        , 0.        ,\n",
       "       0.        , 0.        , 0.        , 0.        , 0.        ,\n",
       "       0.        , 0.        , 0.        , 0.        , 0.        ,\n",
       "       0.        , 0.        , 0.        , 0.        , 0.        ,\n",
       "       0.        , 0.        , 0.        , 0.        , 0.        ,\n",
       "       0.        , 0.        , 0.        , 0.        , 0.        ,\n",
       "       0.        , 0.        , 0.        , 0.        , 0.        ,\n",
       "       0.        , 0.        , 0.        , 0.        , 0.        ,\n",
       "       0.        , 0.        , 0.        , 0.        , 0.        ,\n",
       "       0.        , 0.        , 0.03558265, 0.        , 0.        ,\n",
       "       0.        , 0.        , 0.        , 0.        , 0.        ,\n",
       "       0.        , 0.        , 0.        , 0.06213206, 0.        ,\n",
       "       0.        , 0.        , 0.        , 0.        , 0.        ,\n",
       "       0.        , 0.        , 0.        , 0.        , 0.        ,\n",
       "       0.        , 0.        , 0.        , 0.        , 0.04152217,\n",
       "       0.        , 0.        , 0.        , 0.        , 0.        ,\n",
       "       0.        , 0.        , 0.        , 0.        , 0.        ,\n",
       "       0.        , 0.        , 0.        , 0.        , 0.        ,\n",
       "       0.16558895, 0.        , 0.        , 0.        , 0.        ,\n",
       "       0.        , 0.        , 0.        , 0.        , 0.        ,\n",
       "       0.        , 0.        , 0.        , 0.        , 0.        ,\n",
       "       0.        , 0.        , 0.        , 0.        , 0.09595644,\n",
       "       0.        , 0.        , 0.        , 0.        , 0.        ,\n",
       "       0.        , 0.        , 0.        , 0.        , 0.        ,\n",
       "       0.        , 0.        , 0.        , 0.        , 0.        ,\n",
       "       0.        , 0.        , 0.05912089, 0.03468152, 0.        ,\n",
       "       0.        , 0.        , 0.        , 0.        , 0.        ,\n",
       "       0.        , 0.        , 0.        , 0.        , 0.        ,\n",
       "       0.        , 0.        , 0.        , 0.        , 0.        ,\n",
       "       0.        , 0.        , 0.        , 0.        , 0.        ,\n",
       "       0.        , 0.        , 0.11015384, 0.        , 0.        ,\n",
       "       0.        , 0.        , 0.        , 0.        , 0.05121191,\n",
       "       0.        , 0.        , 0.        , 0.        , 0.        ,\n",
       "       0.        , 0.        , 0.        , 0.        , 0.        ,\n",
       "       0.        , 0.        , 0.        , 0.        , 0.        ,\n",
       "       0.        , 0.        , 0.        , 0.        , 0.10076569,\n",
       "       0.        , 0.        , 0.        , 0.        , 0.        ,\n",
       "       0.        , 0.        , 0.        , 0.        , 0.        ,\n",
       "       0.        , 0.        , 0.        , 0.        , 0.        ,\n",
       "       0.        , 0.        , 0.        , 0.        , 0.        ,\n",
       "       0.        , 0.        , 0.        , 0.        , 0.        ,\n",
       "       0.        , 0.        , 0.        , 0.        , 0.        ,\n",
       "       0.        , 0.        , 0.        , 0.        , 0.        ,\n",
       "       0.        , 0.        , 0.        , 0.        , 0.        ,\n",
       "       0.        , 0.        , 0.        , 0.        , 0.        ,\n",
       "       0.        , 0.        , 0.        , 0.        , 0.        ,\n",
       "       0.        , 0.        , 0.        , 0.        , 0.        ,\n",
       "       0.        , 0.        , 0.0601106 , 0.        , 0.        ,\n",
       "       0.        , 0.        , 0.        , 0.        , 0.        ,\n",
       "       0.        , 0.        , 0.        , 0.        , 0.        ,\n",
       "       0.        , 0.        , 0.        , 0.        , 0.        ,\n",
       "       0.        , 0.        , 0.        , 0.        , 0.        ,\n",
       "       0.        , 0.        , 0.        , 0.        , 0.        ,\n",
       "       0.        , 0.05619047, 0.        , 0.        , 0.        ,\n",
       "       0.02803293, 0.        , 0.        , 0.        , 0.        ,\n",
       "       0.        , 0.        , 0.        , 0.        , 0.        ,\n",
       "       0.        , 0.        , 0.        , 0.        , 0.        ,\n",
       "       0.        , 0.        , 0.        , 0.        , 0.        ,\n",
       "       0.        , 0.        , 0.        , 0.        , 0.        ,\n",
       "       0.        , 0.        , 0.        , 0.        , 0.        ,\n",
       "       0.        , 0.04444618, 0.        , 0.        , 0.        ,\n",
       "       0.        , 0.        , 0.        , 0.        , 0.        ,\n",
       "       0.        , 0.        , 0.        , 0.        , 0.        ,\n",
       "       0.        , 0.        , 0.        , 0.        , 0.        ,\n",
       "       0.        , 0.        , 0.        , 0.        , 0.        ,\n",
       "       0.        , 0.        , 0.        , 0.        , 0.        ,\n",
       "       0.        , 0.        , 0.        , 0.        , 0.        ,\n",
       "       0.        , 0.        , 0.        , 0.        , 0.        ,\n",
       "       0.        , 0.        , 0.        , 0.        , 0.        ,\n",
       "       0.        , 0.        , 0.        , 0.        , 0.        ,\n",
       "       0.05153032, 0.        , 0.        , 0.        , 0.        ,\n",
       "       0.05238436, 0.        , 0.        , 0.        , 0.        ,\n",
       "       0.10447662, 0.        , 0.        , 0.        , 0.        ,\n",
       "       0.        , 0.        , 0.        , 0.05827188, 0.        ,\n",
       "       0.        , 0.        , 0.        , 0.        , 0.        ,\n",
       "       0.11595122, 0.        , 0.        , 0.        , 0.        ,\n",
       "       0.        , 0.        , 0.        , 0.        , 0.        ,\n",
       "       0.        , 0.        , 0.        , 0.        , 0.        ,\n",
       "       0.        , 0.        , 0.        , 0.        , 0.        ,\n",
       "       0.        , 0.        , 0.        , 0.        , 0.        ,\n",
       "       0.        , 0.        , 0.        , 0.        , 0.        ,\n",
       "       0.03556811, 0.        , 0.        , 0.        , 0.        ,\n",
       "       0.        , 0.        , 0.        , 0.        , 0.        ,\n",
       "       0.        , 0.        , 0.        , 0.        , 0.        ,\n",
       "       0.        , 0.39664382, 0.        , 0.        , 0.        ,\n",
       "       0.        , 0.        , 0.        , 0.        , 0.        ,\n",
       "       0.        , 0.        , 0.02927643, 0.        , 0.        ,\n",
       "       0.        , 0.        , 0.        , 0.        , 0.        ,\n",
       "       0.        , 0.        , 0.        , 0.        , 0.        ,\n",
       "       0.        , 0.        , 0.        , 0.        , 0.        ,\n",
       "       0.07503089, 0.        , 0.        , 0.        , 0.        ,\n",
       "       0.        , 0.05293344, 0.        , 0.        , 0.        ,\n",
       "       0.        , 0.        , 0.        , 0.04815739, 0.        ,\n",
       "       0.17982198, 0.04293186, 0.        , 0.        , 0.        ,\n",
       "       0.        , 0.        , 0.        , 0.        , 0.08728455,\n",
       "       0.        , 0.04512468, 0.        , 0.        , 0.        ,\n",
       "       0.        , 0.        , 0.        , 0.        , 0.        ,\n",
       "       0.        , 0.        , 0.        , 0.        , 0.        ,\n",
       "       0.        , 0.        , 0.05994066, 0.        , 0.        ,\n",
       "       0.04812137, 0.        , 0.        , 0.        , 0.        ,\n",
       "       0.        , 0.        , 0.        , 0.529097  , 0.13400601,\n",
       "       0.        , 0.        , 0.        , 0.        , 0.        ,\n",
       "       0.        , 0.        , 0.        , 0.        , 0.        ,\n",
       "       0.        , 0.        , 0.05283197, 0.        , 0.        ,\n",
       "       0.        , 0.        , 0.        , 0.        , 0.        ,\n",
       "       0.        , 0.        , 0.        , 0.        , 0.        ,\n",
       "       0.        , 0.        , 0.        , 0.        , 0.        ,\n",
       "       0.        , 0.        , 0.        , 0.04119108, 0.        ,\n",
       "       0.        , 0.12947318, 0.        , 0.        , 0.        ,\n",
       "       0.        , 0.        , 0.        , 0.        , 0.        ,\n",
       "       0.        , 0.        , 0.        , 0.        , 0.        ,\n",
       "       0.        , 0.        , 0.        , 0.        , 0.        ,\n",
       "       0.        , 0.        , 0.        , 0.        , 0.        ,\n",
       "       0.        , 0.        , 0.        , 0.        , 0.        ,\n",
       "       0.        , 0.        , 0.05857462, 0.        , 0.        ,\n",
       "       0.        , 0.        , 0.        , 0.        , 0.        ,\n",
       "       0.        , 0.        , 0.        , 0.04826602, 0.        ,\n",
       "       0.        , 0.        , 0.        , 0.        , 0.        ,\n",
       "       0.        , 0.        , 0.        , 0.        , 0.        ,\n",
       "       0.        , 0.05733131, 0.        , 0.        , 0.        ,\n",
       "       0.        , 0.        , 0.        , 0.05130214, 0.        ,\n",
       "       0.        , 0.        , 0.06193561, 0.        , 0.        ,\n",
       "       0.        , 0.        , 0.        , 0.        , 0.        ,\n",
       "       0.        , 0.        , 0.        , 0.        , 0.        ,\n",
       "       0.        , 0.        , 0.        , 0.04428162, 0.04464066,\n",
       "       0.        , 0.        , 0.        , 0.        , 0.        ,\n",
       "       0.        , 0.        , 0.        , 0.        , 0.        ,\n",
       "       0.        , 0.        , 0.        , 0.        , 0.        ,\n",
       "       0.        , 0.17878694, 0.        , 0.        , 0.        ,\n",
       "       0.        , 0.        , 0.        , 0.        , 0.        ,\n",
       "       0.        , 0.        , 0.        , 0.        , 0.        ,\n",
       "       0.        , 0.        , 0.        , 0.        , 0.        ,\n",
       "       0.        , 0.        , 0.        , 0.        , 0.        ,\n",
       "       0.        , 0.        , 0.        , 0.        , 0.        ,\n",
       "       0.        , 0.        , 0.04425438, 0.        , 0.        ,\n",
       "       0.        , 0.        , 0.        , 0.        , 0.03676661,\n",
       "       0.        , 0.        , 0.        , 0.        , 0.        ,\n",
       "       0.11654376, 0.        , 0.        , 0.        , 0.        ,\n",
       "       0.        , 0.        , 0.        , 0.        , 0.        ,\n",
       "       0.        , 0.        , 0.        , 0.        , 0.        ,\n",
       "       0.        , 0.        , 0.        , 0.        , 0.        ,\n",
       "       0.        , 0.        , 0.        , 0.        , 0.        ,\n",
       "       0.        , 0.        , 0.        , 0.        , 0.        ,\n",
       "       0.        , 0.        , 0.        , 0.        , 0.06392506,\n",
       "       0.        , 0.        , 0.        , 0.        , 0.        ,\n",
       "       0.        , 0.        , 0.        , 0.        , 0.        ,\n",
       "       0.        , 0.03958646, 0.        , 0.        , 0.        ,\n",
       "       0.        , 0.        , 0.        , 0.        , 0.        ,\n",
       "       0.        , 0.        , 0.        , 0.        , 0.        ,\n",
       "       0.        , 0.        , 0.        , 0.03235314, 0.        ,\n",
       "       0.        , 0.        , 0.        , 0.        , 0.        ,\n",
       "       0.        , 0.        , 0.        , 0.        , 0.        ,\n",
       "       0.        , 0.        , 0.        , 0.        , 0.        ,\n",
       "       0.        , 0.        , 0.        , 0.        , 0.        ,\n",
       "       0.        , 0.        , 0.        , 0.        , 0.        ,\n",
       "       0.        , 0.        , 0.        , 0.        , 0.        ,\n",
       "       0.        , 0.        , 0.05421281, 0.        , 0.        ,\n",
       "       0.        , 0.        , 0.        , 0.        , 0.        ,\n",
       "       0.        , 0.        , 0.        , 0.        , 0.        ,\n",
       "       0.06988275, 0.        , 0.        , 0.        , 0.        ,\n",
       "       0.        , 0.        , 0.        , 0.        , 0.        ,\n",
       "       0.        , 0.        , 0.        , 0.        , 0.        ,\n",
       "       0.        , 0.        , 0.        , 0.        , 0.        ,\n",
       "       0.        , 0.        , 0.0605448 , 0.        , 0.        ,\n",
       "       0.        , 0.        , 0.        , 0.        , 0.        ,\n",
       "       0.        , 0.        , 0.        , 0.        , 0.        ,\n",
       "       0.        , 0.        , 0.        , 0.        , 0.        ,\n",
       "       0.        , 0.        , 0.        , 0.        , 0.        ,\n",
       "       0.        , 0.        , 0.        , 0.        , 0.        ,\n",
       "       0.        , 0.        , 0.        , 0.        , 0.        ,\n",
       "       0.        , 0.        , 0.        , 0.27420584, 0.        ,\n",
       "       0.        , 0.        , 0.        , 0.        , 0.19856282,\n",
       "       0.        , 0.        , 0.        , 0.        , 0.        ,\n",
       "       0.        , 0.        , 0.        , 0.07626221, 0.        ,\n",
       "       0.        , 0.        , 0.        , 0.        , 0.        ,\n",
       "       0.        , 0.0673576 , 0.        , 0.        , 0.06403812,\n",
       "       0.        , 0.        , 0.        , 0.        , 0.        ,\n",
       "       0.        , 0.04655819, 0.        , 0.        , 0.        ,\n",
       "       0.        , 0.        , 0.        , 0.        , 0.        ,\n",
       "       0.        , 0.        , 0.        , 0.        , 0.        ,\n",
       "       0.        , 0.        , 0.        , 0.        , 0.        ,\n",
       "       0.        , 0.03569953, 0.        , 0.        , 0.        ,\n",
       "       0.        , 0.        , 0.        , 0.        , 0.        ,\n",
       "       0.        , 0.        , 0.        , 0.        , 0.        ,\n",
       "       0.        , 0.        , 0.        , 0.        , 0.        ,\n",
       "       0.        , 0.        , 0.        , 0.        , 0.05834695,\n",
       "       0.        , 0.        , 0.        , 0.        , 0.        ,\n",
       "       0.        , 0.        , 0.04611546, 0.06019636, 0.        ,\n",
       "       0.        , 0.        , 0.        , 0.        , 0.        ,\n",
       "       0.        , 0.        , 0.0989621 , 0.        , 0.        ,\n",
       "       0.        , 0.        , 0.        , 0.        , 0.        ,\n",
       "       0.        , 0.        , 0.        , 0.        , 0.        ,\n",
       "       0.        , 0.        , 0.        , 0.29639974, 0.        ,\n",
       "       0.03862962, 0.04559622, 0.        , 0.        , 0.        ,\n",
       "       0.        , 0.        , 0.        , 0.        , 0.        ,\n",
       "       0.        , 0.        , 0.        , 0.09802567, 0.        ,\n",
       "       0.        , 0.        , 0.04731774, 0.        , 0.        ,\n",
       "       0.        , 0.        , 0.        , 0.        , 0.        ,\n",
       "       0.        , 0.        , 0.        , 0.        , 0.        ,\n",
       "       0.        , 0.        , 0.06233135, 0.        , 0.        ])"
      ]
     },
     "execution_count": 28,
     "metadata": {},
     "output_type": "execute_result"
    }
   ],
   "source": [
    "vectorizer = TfidfVectorizer(max_features=1000)\n",
    "vec_train = vectorizer.fit_transform(X_train)\n",
    "vec_test = vectorizer.transform(X_test)\n",
    "vec_train.toarray()[0,:]"
   ]
  },
  {
   "cell_type": "code",
   "execution_count": 29,
   "metadata": {},
   "outputs": [
    {
     "name": "stdout",
     "output_type": "stream",
     "text": [
      "              precision    recall  f1-score   support\n",
      "\n",
      "          全球       0.90      0.93      0.91       451\n",
      "          兩岸       0.93      0.92      0.93       518\n",
      "          股市       0.98      0.97      0.97       616\n",
      "          運動       0.99      0.98      0.98       375\n",
      "\n",
      "    accuracy                           0.95      1960\n",
      "   macro avg       0.95      0.95      0.95      1960\n",
      "weighted avg       0.95      0.95      0.95      1960\n",
      "\n"
     ]
    }
   ],
   "source": [
    "clf.fit(vec_train, y_train)\n",
    "y_pred = clf.predict(vec_test)\n",
    "y_pred_proba = clf.predict_proba(vec_test)\n",
    "\n",
    "# results\n",
    "## Accuracy, Precision, Recall, F1-score\n",
    "print(classification_report(y_test, y_pred))"
   ]
  },
  {
   "attachments": {},
   "cell_type": "markdown",
   "metadata": {},
   "source": [
    "效果一樣也是不錯，可能因為四個新聞版別本來就有很大的差異，用字遣詞會不同。"
   ]
  },
  {
   "attachments": {},
   "cell_type": "markdown",
   "metadata": {},
   "source": [
    "### 3.5 CV"
   ]
  },
  {
   "attachments": {},
   "cell_type": "markdown",
   "metadata": {},
   "source": [
    "接著介紹 cross-validation。CV 在機器學習中，是一個很常用來讓模型評估能夠得到更穩定的數值的手法。"
   ]
  },
  {
   "attachments": {},
   "cell_type": "markdown",
   "metadata": {},
   "source": [
    "* figure1: "
   ]
  },
  {
   "attachments": {},
   "cell_type": "markdown",
   "metadata": {},
   "source": [
    "<img src=\"https://scikit-learn.org/stable/_images/grid_search_workflow.png\"  width=\"1000\">"
   ]
  },
  {
   "attachments": {},
   "cell_type": "markdown",
   "metadata": {},
   "source": [
    "* figure 2:  "
   ]
  },
  {
   "attachments": {},
   "cell_type": "markdown",
   "metadata": {},
   "source": [
    "![](https://scikit-learn.org/stable/_images/grid_search_cross_validation.png)"
   ]
  },
  {
   "attachments": {},
   "cell_type": "markdown",
   "metadata": {},
   "source": [
    "source: <https://scikit-learn.org/stable/modules/cross_validation.html#cross-validation-and-model-selection>"
   ]
  },
  {
   "attachments": {},
   "cell_type": "markdown",
   "metadata": {},
   "source": [
    "cross-validation 會自動切成 k 組 train-test dataset。  \n",
    "`cross_validate()` 會回傳經過 cross-validation 的模型評估結果。"
   ]
  },
  {
   "cell_type": "code",
   "execution_count": 30,
   "metadata": {},
   "outputs": [
    {
     "name": "stdout",
     "output_type": "stream",
     "text": [
      "{'estimator': [LogisticRegression(),\n",
      "               LogisticRegression(),\n",
      "               LogisticRegression(),\n",
      "               LogisticRegression(),\n",
      "               LogisticRegression()],\n",
      " 'fit_time': array([0.22567296, 0.24982285, 0.22704911, 0.24586487, 0.26075435]),\n",
      " 'score_time': array([0.02575493, 0.0275619 , 0.02720785, 0.02794814, 0.02476692]),\n",
      " 'test_f1_macro': array([0.93357295, 0.9460383 , 0.92403474, 0.92864444, 0.92179623]),\n",
      " 'test_precision_macro': array([0.9333223 , 0.94686199, 0.92437316, 0.92999215, 0.92214456]),\n",
      " 'test_recall_macro': array([0.9338612 , 0.94528719, 0.92374451, 0.9279218 , 0.92181757])}\n"
     ]
    }
   ],
   "source": [
    "clf = LogisticRegression()\n",
    "vec_train = CountVectorizer(max_features=1000).fit_transform(X_train)\n",
    "\n",
    "scores = cross_validate(clf, vec_train, y_train, cv=5, scoring=(\"f1_macro\", \"recall_macro\", \"precision_macro\"), return_estimator=True)\n",
    "pprint(scores)"
   ]
  },
  {
   "cell_type": "markdown",
   "metadata": {},
   "source": [
    "`cross_val_predict()` 則會回傳 cv 預測的類別。"
   ]
  },
  {
   "cell_type": "code",
   "execution_count": 31,
   "metadata": {},
   "outputs": [
    {
     "name": "stdout",
     "output_type": "stream",
     "text": [
      "              precision    recall  f1-score   support\n",
      "\n",
      "          全球       0.88      0.90      0.89      1163\n",
      "          兩岸       0.90      0.89      0.90      1152\n",
      "          股市       0.97      0.97      0.97      1345\n",
      "          運動       0.97      0.96      0.97       911\n",
      "\n",
      "    accuracy                           0.93      4571\n",
      "   macro avg       0.93      0.93      0.93      4571\n",
      "weighted avg       0.93      0.93      0.93      4571\n",
      "\n"
     ]
    }
   ],
   "source": [
    "y_pred = cross_val_predict(clf, vec_train, y_train, cv=5)\n",
    "print(classification_report(y_train, y_pred))"
   ]
  },
  {
   "attachments": {},
   "cell_type": "markdown",
   "metadata": {},
   "source": [
    "## 4. 比較不同模型效果"
   ]
  },
  {
   "cell_type": "code",
   "execution_count": 32,
   "metadata": {
    "scrolled": true
   },
   "outputs": [],
   "source": [
    "# 定義模型訓練組合\n",
    "## pipeline: 資料處理 vectorizer + 分類器 clf\n",
    "## 由於 cross-validation 會自動將資料分成 train/test，因此 input 只要給 X, y 即可\n",
    "\n",
    "def train_cv(vectorizer, clf, X, y):\n",
    "\n",
    "    ## train classifier\n",
    "    vec_X = vectorizer.fit_transform(X).toarray()\n",
    "    \n",
    "    ## get cv results\n",
    "    cv_results = cross_validate(clf, vec_X, y, cv=5, return_estimator=True)\n",
    "    y_pred = cross_val_predict(clf, vec_X, y, cv=5)\n",
    "    y_pred_proba = cross_val_predict(clf, vec_X, y, cv=5, method=\"predict_proba\")\n",
    "    \n",
    "    ## Accuracy, Precision, Recall, F1-score\n",
    "    cls_report = classification_report(y, y_pred, output_dict=True)\n",
    "    print(classification_report(y, y_pred))\n",
    "\n",
    "    classes = cv_results['estimator'][0].classes_\n",
    "    \n",
    "    ## Plot confusion matrix\n",
    "    cm = confusion_matrix(y, y_pred)\n",
    "    fig, ax = plt.subplots()\n",
    "    sns.heatmap(cm, annot=True, fmt=\"d\", ax=ax, cmap=plt.cm.Blues, cbar=False)\n",
    "    ax.set(\n",
    "        xlabel=\"Pred\",\n",
    "        ylabel=\"True\",\n",
    "        xticklabels=classes,\n",
    "        yticklabels=classes,\n",
    "        title= str(clf) + \"Confusion matrix\",\n",
    "    )\n",
    "    plt.yticks(rotation=0)\n",
    "\n",
    "    clf.fit(vec_X, y)\n",
    "    # return the model object\n",
    "    return cls_report"
   ]
  },
  {
   "cell_type": "code",
   "execution_count": 33,
   "metadata": {},
   "outputs": [
    {
     "name": "stdout",
     "output_type": "stream",
     "text": [
      "              precision    recall  f1-score   support\n",
      "\n",
      "          全球       0.88      0.90      0.89      1163\n",
      "          兩岸       0.90      0.89      0.90      1152\n",
      "          股市       0.97      0.97      0.97      1345\n",
      "          運動       0.97      0.96      0.97       911\n",
      "\n",
      "    accuracy                           0.93      4571\n",
      "   macro avg       0.93      0.93      0.93      4571\n",
      "weighted avg       0.93      0.93      0.93      4571\n",
      "\n"
     ]
    },
    {
     "data": {
      "image/png": "[encoded data removed]",
      "text/plain": [
       "<Figure size 640x480 with 1 Axes>"
      ]
     },
     "metadata": {},
     "output_type": "display_data"
    }
   ],
   "source": [
    "vectorizer = CountVectorizer(max_features=1000)\n",
    "clf = LogisticRegression()\n",
    "result = train_cv(vectorizer, clf, X_train, y_train)"
   ]
  },
  {
   "cell_type": "code",
   "execution_count": 34,
   "metadata": {},
   "outputs": [
    {
     "name": "stdout",
     "output_type": "stream",
     "text": [
      "====================================================================================================\n",
      "now training: clf_logistic\n"
     ]
    },
    {
     "name": "stdout",
     "output_type": "stream",
     "text": [
      "              precision    recall  f1-score   support\n",
      "\n",
      "          全球       0.88      0.90      0.89      1163\n",
      "          兩岸       0.90      0.89      0.90      1152\n",
      "          股市       0.97      0.97      0.97      1345\n",
      "          運動       0.97      0.96      0.97       911\n",
      "\n",
      "    accuracy                           0.93      4571\n",
      "   macro avg       0.93      0.93      0.93      4571\n",
      "weighted avg       0.93      0.93      0.93      4571\n",
      "\n",
      "====================================================================================================\n",
      "====================================================================================================\n",
      "now training: clf_dtree\n",
      "              precision    recall  f1-score   support\n",
      "\n",
      "          全球       0.75      0.77      0.76      1163\n",
      "          兩岸       0.82      0.82      0.82      1152\n",
      "          股市       0.91      0.91      0.91      1345\n",
      "          運動       0.92      0.89      0.91       911\n",
      "\n",
      "    accuracy                           0.85      4571\n",
      "   macro avg       0.85      0.85      0.85      4571\n",
      "weighted avg       0.85      0.85      0.85      4571\n",
      "\n",
      "====================================================================================================\n",
      "====================================================================================================\n",
      "now training: clf_svm\n",
      "              precision    recall  f1-score   support\n",
      "\n",
      "          全球       0.90      0.89      0.90      1163\n",
      "          兩岸       0.87      0.93      0.90      1152\n",
      "          股市       0.98      0.96      0.97      1345\n",
      "          運動       0.98      0.95      0.96       911\n",
      "\n",
      "    accuracy                           0.93      4571\n",
      "   macro avg       0.93      0.93      0.93      4571\n",
      "weighted avg       0.93      0.93      0.93      4571\n",
      "\n",
      "====================================================================================================\n",
      "====================================================================================================\n",
      "now training: clf_rf\n",
      "              precision    recall  f1-score   support\n",
      "\n",
      "          全球       0.93      0.85      0.89      1163\n",
      "          兩岸       0.88      0.93      0.90      1152\n",
      "          股市       0.96      0.98      0.97      1345\n",
      "          運動       0.97      0.97      0.97       911\n",
      "\n",
      "    accuracy                           0.93      4571\n",
      "   macro avg       0.93      0.93      0.93      4571\n",
      "weighted avg       0.93      0.93      0.93      4571\n",
      "\n",
      "====================================================================================================\n"
     ]
    },
    {
     "data": {
      "image/png": "[encoded data removed]",
      "text/plain": [
       "<Figure size 640x480 with 1 Axes>"
      ]
     },
     "metadata": {},
     "output_type": "display_data"
    },
    {
     "data": {
      "image/png": "[encoded data removed]",
      "text/plain": [
       "<Figure size 640x480 with 1 Axes>"
      ]
     },
     "metadata": {},
     "output_type": "display_data"
    },
    {
     "data": {
      "image/png": "[encoded data removed]",
      "text/plain": [
       "<Figure size 640x480 with 1 Axes>"
      ]
     },
     "metadata": {},
     "output_type": "display_data"
    },
    {
     "data": {
      "image/png": "[encoded data removed]",
      "text/plain": [
       "<Figure size 640x480 with 1 Axes>"
      ]
     },
     "metadata": {},
     "output_type": "display_data"
    }
   ],
   "source": [
    "# 準備訓練資料\n",
    "X = data[\"words\"]\n",
    "y = data[\"artCatagory\"]\n",
    "\n",
    "# 把整個資料集七三切\n",
    "X_train, X_test, y_train, y_test = train_test_split(\n",
    "    X, y, test_size=0.3, random_state=777\n",
    ")\n",
    "# 定義模型訓練組合\n",
    "model_set = dict()\n",
    "model_set['clf_logistic'] = LogisticRegression()\n",
    "model_set['clf_dtree'] = DecisionTreeClassifier()\n",
    "model_set['clf_svm'] = svm.SVC(probability=True) # 要使用SVM的predict_proba的話，必須在叫出SVC的時候就將probability設為True\n",
    "model_set['clf_rf'] = RandomForestClassifier()\n",
    "# 定義 vectorizer\n",
    "vectorizer = CountVectorizer(max_features=1000)\n",
    "# 存結果\n",
    "result_set = dict()\n",
    "\n",
    "for k, model in model_set.items():\n",
    "    print(\"=\"*100)\n",
    "    print(f\"now training: {k}\")\n",
    "    result_set[k] = train_cv(vectorizer, model, X_train, y_train)\n",
    "    print(\"=\"*100)\n"
   ]
  },
  {
   "cell_type": "code",
   "execution_count": 35,
   "metadata": {},
   "outputs": [
    {
     "data": {
      "text/plain": [
       "{'全球': {'precision': 0.880168776371308,\n",
       "  'recall': 0.8968185726569218,\n",
       "  'f1-score': 0.8884156729131175,\n",
       "  'support': 1163.0},\n",
       " '兩岸': {'precision': 0.9017543859649123,\n",
       "  'recall': 0.8923611111111112,\n",
       "  'f1-score': 0.8970331588132635,\n",
       "  'support': 1152.0},\n",
       " '股市': {'precision': 0.9694713328369322,\n",
       "  'recall': 0.9680297397769517,\n",
       "  'f1-score': 0.96875,\n",
       "  'support': 1345.0},\n",
       " '運動': {'precision': 0.973421926910299,\n",
       "  'recall': 0.964873765093304,\n",
       "  'f1-score': 0.9691289966923925,\n",
       "  'support': 911.0},\n",
       " 'accuracy': 0.9302122073944432,\n",
       " 'macro avg': {'precision': 0.9312041055208629,\n",
       "  'recall': 0.9305207971595721,\n",
       "  'f1-score': 0.9308319571046934,\n",
       "  'support': 4571.0},\n",
       " 'weighted avg': {'precision': 0.9304711567780282,\n",
       "  'recall': 0.9302122073944432,\n",
       "  'f1-score': 0.9303117244667698,\n",
       "  'support': 4571.0}}"
      ]
     },
     "execution_count": 35,
     "metadata": {},
     "output_type": "execute_result"
    }
   ],
   "source": [
    "result_set['clf_logistic']"
   ]
  },
  {
   "cell_type": "code",
   "execution_count": 36,
   "metadata": {},
   "outputs": [
    {
     "name": "stdout",
     "output_type": "stream",
     "text": [
      "best model: clf_rf\n",
      "{'accuracy': 0.9323999124917961,\n",
      " 'macro avg': {'f1-score': 0.9325073351153553,\n",
      "               'precision': 0.9338214261502888,\n",
      "               'recall': 0.9326222417553454,\n",
      "               'support': 4571.0},\n",
      " 'weighted avg': {'f1-score': 0.9319169743603383,\n",
      "                  'precision': 0.9328981534871528,\n",
      "                  'recall': 0.9323999124917961,\n",
      "                  'support': 4571.0},\n",
      " '全球': {'f1-score': 0.8860873480414228,\n",
      "        'precision': 0.9300567107750473,\n",
      "        'recall': 0.8460877042132416,\n",
      "        'support': 1163.0},\n",
      " '兩岸': {'f1-score': 0.9037974683544304,\n",
      "        'precision': 0.8793103448275862,\n",
      "        'recall': 0.9296875,\n",
      "        'support': 1152.0},\n",
      " '股市': {'f1-score': 0.9691856199559794,\n",
      "        'precision': 0.9565532223026793,\n",
      "        'recall': 0.9821561338289962,\n",
      "        'support': 1345.0},\n",
      " '運動': {'f1-score': 0.9709589041095891,\n",
      "        'precision': 0.9693654266958425,\n",
      "        'recall': 0.9725576289791438,\n",
      "        'support': 911.0}}\n"
     ]
    }
   ],
   "source": [
    "max = 0\n",
    "best_model_name = \"\"\n",
    "best_model_metric = \"f1-score\"\n",
    "\n",
    "## choose max f1-score model from result_set\n",
    "for k, v in result_set.items():\n",
    "    if v['weighted avg'][best_model_metric] > max:\n",
    "        max = v['weighted avg'][best_model_metric]\n",
    "        best_model_name = k\n",
    "print(f\"best model: {best_model_name}\")\n",
    "pprint(result_set[best_model_name])"
   ]
  },
  {
   "cell_type": "code",
   "execution_count": 37,
   "metadata": {},
   "outputs": [
    {
     "name": "stdout",
     "output_type": "stream",
     "text": [
      "              precision    recall  f1-score   support\n",
      "\n",
      "          全球       0.92      0.86      0.89       451\n",
      "          兩岸       0.91      0.92      0.91       518\n",
      "          股市       0.96      0.99      0.97       616\n",
      "          運動       0.98      0.98      0.98       375\n",
      "\n",
      "    accuracy                           0.94      1960\n",
      "   macro avg       0.94      0.94      0.94      1960\n",
      "weighted avg       0.94      0.94      0.94      1960\n",
      "\n"
     ]
    }
   ],
   "source": [
    "y_pred = model_set['clf_rf'].predict(vectorizer.transform(X_test))\n",
    "print(classification_report(y_test, y_pred))"
   ]
  },
  {
   "cell_type": "code",
   "execution_count": 38,
   "metadata": {},
   "outputs": [
    {
     "data": {
      "text/plain": [
       "array(['股市'], dtype=object)"
      ]
     },
     "execution_count": 38,
     "metadata": {},
     "output_type": "execute_result"
    }
   ],
   "source": [
    "model_set['clf_rf'].predict(vectorizer.transform([\"股票 掉下來 達人 曝挑 個股 要件 東森 新聞 投資人 追求 穩定 被動 收入\"]))"
   ]
  },
  {
   "attachments": {},
   "cell_type": "markdown",
   "metadata": {},
   "source": [
    "* logistic 的模型表現比決策樹的略好一點。\n",
    "* 另外也可以嘗試用 tfidf 作為 `vectorizer`，比較看看相較直接的詞頻表，是否效果更好。"
   ]
  },
  {
   "attachments": {},
   "cell_type": "markdown",
   "metadata": {},
   "source": [
    "## 5. 分析可解釋模型的結果"
   ]
  },
  {
   "attachments": {},
   "cell_type": "markdown",
   "metadata": {},
   "source": [
    "### 5.1 各字詞特徵的estimate係數\n",
    "對於線性的模型，可以藉由相關係數，查看資料特徵（詞）對於判斷分類的影響\n",
    "+ coefficient estimate 代表特徵每增加一單位（在此處會是該文章的某字詞頻 +1），y是1的發生機率比y是0的發生機率多幾倍（odds ratio 勝算比）\n",
    "+ 這裡舉logistic regression + cv tokenizer 為例"
   ]
  },
  {
   "cell_type": "code",
   "execution_count": 39,
   "metadata": {},
   "outputs": [],
   "source": [
    "def plot_coef(logistic_reg_model, feature_names, top_n=10):\n",
    "    # 選出某個類別的前10大影響力字詞\n",
    "    log_odds = logistic_reg_model.coef_.T\n",
    "    coef_df = pd.DataFrame(\n",
    "        log_odds, \n",
    "        columns=logistic_reg_model.classes_, index=feature_names\n",
    "    )\n",
    "    for label in coef_df.columns:\n",
    "        select_words = (\n",
    "            coef_df[[label]]\n",
    "            .sort_values(by=label, ascending=False)\n",
    "            .iloc[np.r_[0:top_n, -top_n:0]]\n",
    "        )\n",
    "        word = select_words.index\n",
    "        count = select_words[label]\n",
    "        category_colors = np.where(\n",
    "            select_words[label] >= 0, \"darkseagreen\", \"rosybrown\"\n",
    "        )  # 設定顏色\n",
    "\n",
    "        fig, ax = plt.subplots(figsize=(8, top_n*0.8))  # 設定畫布\n",
    "        plt.rcParams[\"axes.unicode_minus\"] = False\n",
    "\n",
    "        ax.barh(word, count, color=category_colors)\n",
    "        ax.invert_yaxis()\n",
    "        ax.set_title(\n",
    "            \"Coeff increase/decrease odds ratio of 「\" + label + \"」 label the most\",\n",
    "            loc=\"left\",\n",
    "            size=16,\n",
    "        )\n",
    "        ax.set_ylabel(\"word\", size=14)\n",
    "        ax.set_xlabel(\"odds ratio\", size=14)"
   ]
  },
  {
   "cell_type": "code",
   "execution_count": 40,
   "metadata": {},
   "outputs": [
    {
     "data": {
      "image/png": "[encoded data removed]",
      "text/plain": [
       "<Figure size 800x800 with 1 Axes>"
      ]
     },
     "metadata": {},
     "output_type": "display_data"
    },
    {
     "data": {
      "image/png": "[encoded data removed]",
      "text/plain": [
       "<Figure size 800x800 with 1 Axes>"
      ]
     },
     "metadata": {},
     "output_type": "display_data"
    },
    {
     "data": {
      "image/png": "[encoded data removed]",
      "text/plain": [
       "<Figure size 800x800 with 1 Axes>"
      ]
     },
     "metadata": {},
     "output_type": "display_data"
    },
    {
     "data": {
      "image/png": "[encoded data removed]",
      "text/plain": [
       "<Figure size 800x800 with 1 Axes>"
      ]
     },
     "metadata": {},
     "output_type": "display_data"
    }
   ],
   "source": [
    "plot_coef(logistic_reg_model=model_set['clf_logistic'], feature_names=vectorizer.get_feature_names_out(), top_n=10)"
   ]
  },
  {
   "attachments": {},
   "cell_type": "markdown",
   "metadata": {},
   "source": [
    "「全球」中出現了川普、東京等國際新聞關鍵字；「兩岸」中高係數的字是與中國有關的香港、人民幣；「股市」則是台股、期貨相關的字；「運動」是比賽、球員、聯盟相關字。"
   ]
  },
  {
   "attachments": {},
   "cell_type": "markdown",
   "metadata": {},
   "source": [
    "## 6. 預測新聞類別"
   ]
  },
  {
   "cell_type": "code",
   "execution_count": 41,
   "metadata": {},
   "outputs": [
    {
     "data": {
      "text/html": [
       "<div>\n",
       "<style scoped>\n",
       "    .dataframe tbody tr th:only-of-type {\n",
       "        vertical-align: middle;\n",
       "    }\n",
       "\n",
       "    .dataframe tbody tr th {\n",
       "        vertical-align: top;\n",
       "    }\n",
       "\n",
       "    .dataframe thead th {\n",
       "        text-align: right;\n",
       "    }\n",
       "</style>\n",
       "<table border=\"1\" class=\"dataframe\">\n",
       "  <thead>\n",
       "    <tr style=\"text-align: right;\">\n",
       "      <th></th>\n",
       "      <th>system_id</th>\n",
       "      <th>artTitle</th>\n",
       "      <th>artUrl</th>\n",
       "      <th>artDate</th>\n",
       "      <th>artCatagory</th>\n",
       "      <th>artContent</th>\n",
       "      <th>dataSource</th>\n",
       "    </tr>\n",
       "  </thead>\n",
       "  <tbody>\n",
       "    <tr>\n",
       "      <th>0</th>\n",
       "      <td>1</td>\n",
       "      <td>才喊話2年砍2萬人！花旗宣布「裁紐約286名員工」｜東森新聞</td>\n",
       "      <td>https://news.ebc.net.tw/news/article/407802</td>\n",
       "      <td>2024-03-01 13:40:00</td>\n",
       "      <td>財經</td>\n",
       "      <td>美國花旗集團日前才宣布，將在未來2年裁員2萬人，而根據該集團近日向美國勞工部（StateDe...</td>\n",
       "      <td>EBC</td>\n",
       "    </tr>\n",
       "    <tr>\n",
       "      <th>1</th>\n",
       "      <td>2</td>\n",
       "      <td>新／中鋼配0.35元 百萬股東哭了｜東森新聞</td>\n",
       "      <td>https://news.ebc.net.tw/news/article/407803</td>\n",
       "      <td>2024-03-01 12:41:00</td>\n",
       "      <td>財經</td>\n",
       "      <td>中鋼（2002）29日公布去年財報，112年度分配特別股股息每股現金1.4元及普通股紅利每股...</td>\n",
       "      <td>EBC</td>\n",
       "    </tr>\n",
       "    <tr>\n",
       "      <th>2</th>\n",
       "      <td>3</td>\n",
       "      <td>睡覺都有股票掉下來 達人曝挑個股2要件！｜東森新聞</td>\n",
       "      <td>https://news.ebc.net.tw/news/article/407835</td>\n",
       "      <td>2024-03-01 15:34:00</td>\n",
       "      <td>財經</td>\n",
       "      <td>投資人追求穩定的被動收入，不過，要是沒有足夠的本金，領到的股息也只能祭祭五臟廟；王仲麟認為，...</td>\n",
       "      <td>EBC</td>\n",
       "    </tr>\n",
       "    <tr>\n",
       "      <th>3</th>\n",
       "      <td>4</td>\n",
       "      <td>房市虛坪改革上膛！政院拋兩策略 喊公設可降10％｜東森新聞</td>\n",
       "      <td>https://news.ebc.net.tw/news/article/407854</td>\n",
       "      <td>2024-03-01 18:28:00</td>\n",
       "      <td>財經</td>\n",
       "      <td>內政部最新祭出「虛坪改革」兩大方案！將會從停車空間、管委會空間下手，舉個例子，如果改革方案上...</td>\n",
       "      <td>EBC</td>\n",
       "    </tr>\n",
       "    <tr>\n",
       "      <th>4</th>\n",
       "      <td>5</td>\n",
       "      <td>124萬股東哭哭！中鋼配息0.35元三年新低｜東森新聞</td>\n",
       "      <td>https://news.ebc.net.tw/news/article/407864</td>\n",
       "      <td>2024-03-01 19:52:00</td>\n",
       "      <td>財經</td>\n",
       "      <td>被外界號稱是被鋼鐵耽誤的紀念品公司中鋼，每年的股東會紀念品總是吸引大批股民搶購，甚至不少人存...</td>\n",
       "      <td>EBC</td>\n",
       "    </tr>\n",
       "    <tr>\n",
       "      <th>...</th>\n",
       "      <td>...</td>\n",
       "      <td>...</td>\n",
       "      <td>...</td>\n",
       "      <td>...</td>\n",
       "      <td>...</td>\n",
       "      <td>...</td>\n",
       "      <td>...</td>\n",
       "    </tr>\n",
       "    <tr>\n",
       "      <th>1177</th>\n",
       "      <td>1178</td>\n",
       "      <td>菲律賓大學要求帶防作弊帽 憤怒鳥、皮卡丘「罕同台」｜東森新聞</td>\n",
       "      <td>https://news.ebc.net.tw/news/article/412563</td>\n",
       "      <td>2024-03-29 21:43:00</td>\n",
       "      <td>國際</td>\n",
       "      <td>菲律賓一名大學教授曾為了防止學生考試作弊，要求他們戴上自製的「防作弊帽」，一時間成為網路熱門...</td>\n",
       "      <td>EBC</td>\n",
       "    </tr>\n",
       "    <tr>\n",
       "      <th>1178</th>\n",
       "      <td>1179</td>\n",
       "      <td>遊日韓注意！南韓空品嚴重惡化 沙塵暴將抵日｜東森新聞</td>\n",
       "      <td>https://news.ebc.net.tw/news/article/412567</td>\n",
       "      <td>2024-03-29 19:18:00</td>\n",
       "      <td>國際</td>\n",
       "      <td>趕著上班上課的民眾，出門在外總是口罩不離身，受到蒙古沙塵暴南下影響，南韓首爾周五上午天空霧茫...</td>\n",
       "      <td>EBC</td>\n",
       "    </tr>\n",
       "    <tr>\n",
       "      <th>1179</th>\n",
       "      <td>1180</td>\n",
       "      <td>哈利波特經典成真！麻瓜也能用「隱形斗篷」 只需台幣1.3萬｜東森新聞</td>\n",
       "      <td>https://news.ebc.net.tw/news/article/412591</td>\n",
       "      <td>2024-03-29 23:03:00</td>\n",
       "      <td>國際</td>\n",
       "      <td>英國新創團隊InvisibilityShieldCo.在2022年曾推出一款隱形盾牌，表面使...</td>\n",
       "      <td>EBC</td>\n",
       "    </tr>\n",
       "    <tr>\n",
       "      <th>1180</th>\n",
       "      <td>1181</td>\n",
       "      <td>哈瑪斯殺害德正妹「遊街羞辱」 美聯社獲年度照片惹議｜東森新聞</td>\n",
       "      <td>https://news.ebc.net.tw/news/article/412593</td>\n",
       "      <td>2024-03-29 22:53:00</td>\n",
       "      <td>國際</td>\n",
       "      <td>一名年僅30歲的德國籍以色列裔女性，原本在以色列參加音樂節，卻不幸遭到極端組織哈瑪斯（Ham...</td>\n",
       "      <td>EBC</td>\n",
       "    </tr>\n",
       "    <tr>\n",
       "      <th>1181</th>\n",
       "      <td>1182</td>\n",
       "      <td>33歲女狂嘔以為懷孕 醫檢查搖頭：只剩6個月壽命｜東森新聞</td>\n",
       "      <td>https://news.ebc.net.tw/news/article/412598</td>\n",
       "      <td>2024-03-29 23:20:00</td>\n",
       "      <td>國際</td>\n",
       "      <td>以為即將迎來新生命，結果竟是人生的終局。英國蘇格蘭一名33歲女子因為連續2個月嘔吐、腹脹，猜...</td>\n",
       "      <td>EBC</td>\n",
       "    </tr>\n",
       "  </tbody>\n",
       "</table>\n",
       "<p>1182 rows × 7 columns</p>\n",
       "</div>"
      ],
      "text/plain": [
       "      system_id                            artTitle  \\\n",
       "0             1      才喊話2年砍2萬人！花旗宣布「裁紐約286名員工」｜東森新聞   \n",
       "1             2              新／中鋼配0.35元 百萬股東哭了｜東森新聞   \n",
       "2             3           睡覺都有股票掉下來 達人曝挑個股2要件！｜東森新聞   \n",
       "3             4       房市虛坪改革上膛！政院拋兩策略 喊公設可降10％｜東森新聞   \n",
       "4             5         124萬股東哭哭！中鋼配息0.35元三年新低｜東森新聞   \n",
       "...         ...                                 ...   \n",
       "1177       1178      菲律賓大學要求帶防作弊帽 憤怒鳥、皮卡丘「罕同台」｜東森新聞   \n",
       "1178       1179          遊日韓注意！南韓空品嚴重惡化 沙塵暴將抵日｜東森新聞   \n",
       "1179       1180  哈利波特經典成真！麻瓜也能用「隱形斗篷」 只需台幣1.3萬｜東森新聞   \n",
       "1180       1181      哈瑪斯殺害德正妹「遊街羞辱」 美聯社獲年度照片惹議｜東森新聞   \n",
       "1181       1182       33歲女狂嘔以為懷孕 醫檢查搖頭：只剩6個月壽命｜東森新聞   \n",
       "\n",
       "                                           artUrl              artDate  \\\n",
       "0     https://news.ebc.net.tw/news/article/407802  2024-03-01 13:40:00   \n",
       "1     https://news.ebc.net.tw/news/article/407803  2024-03-01 12:41:00   \n",
       "2     https://news.ebc.net.tw/news/article/407835  2024-03-01 15:34:00   \n",
       "3     https://news.ebc.net.tw/news/article/407854  2024-03-01 18:28:00   \n",
       "4     https://news.ebc.net.tw/news/article/407864  2024-03-01 19:52:00   \n",
       "...                                           ...                  ...   \n",
       "1177  https://news.ebc.net.tw/news/article/412563  2024-03-29 21:43:00   \n",
       "1178  https://news.ebc.net.tw/news/article/412567  2024-03-29 19:18:00   \n",
       "1179  https://news.ebc.net.tw/news/article/412591  2024-03-29 23:03:00   \n",
       "1180  https://news.ebc.net.tw/news/article/412593  2024-03-29 22:53:00   \n",
       "1181  https://news.ebc.net.tw/news/article/412598  2024-03-29 23:20:00   \n",
       "\n",
       "     artCatagory                                         artContent dataSource  \n",
       "0             財經  美國花旗集團日前才宣布，將在未來2年裁員2萬人，而根據該集團近日向美國勞工部（StateDe...        EBC  \n",
       "1             財經  中鋼（2002）29日公布去年財報，112年度分配特別股股息每股現金1.4元及普通股紅利每股...        EBC  \n",
       "2             財經  投資人追求穩定的被動收入，不過，要是沒有足夠的本金，領到的股息也只能祭祭五臟廟；王仲麟認為，...        EBC  \n",
       "3             財經  內政部最新祭出「虛坪改革」兩大方案！將會從停車空間、管委會空間下手，舉個例子，如果改革方案上...        EBC  \n",
       "4             財經  被外界號稱是被鋼鐵耽誤的紀念品公司中鋼，每年的股東會紀念品總是吸引大批股民搶購，甚至不少人存...        EBC  \n",
       "...          ...                                                ...        ...  \n",
       "1177          國際  菲律賓一名大學教授曾為了防止學生考試作弊，要求他們戴上自製的「防作弊帽」，一時間成為網路熱門...        EBC  \n",
       "1178          國際  趕著上班上課的民眾，出門在外總是口罩不離身，受到蒙古沙塵暴南下影響，南韓首爾周五上午天空霧茫...        EBC  \n",
       "1179          國際  英國新創團隊InvisibilityShieldCo.在2022年曾推出一款隱形盾牌，表面使...        EBC  \n",
       "1180          國際  一名年僅30歲的德國籍以色列裔女性，原本在以色列參加音樂節，卻不幸遭到極端組織哈瑪斯（Ham...        EBC  \n",
       "1181          國際  以為即將迎來新生命，結果竟是人生的終局。英國蘇格蘭一名33歲女子因為連續2個月嘔吐、腹脹，猜...        EBC  \n",
       "\n",
       "[1182 rows x 7 columns]"
      ]
     },
     "execution_count": 41,
     "metadata": {},
     "output_type": "execute_result"
    }
   ],
   "source": [
    "ct = pd.read_csv(\"./raw_data/ebc_news_202403.csv\")\n",
    "ct.dropna(inplace=True)\n",
    "ct"
   ]
  },
  {
   "cell_type": "code",
   "execution_count": 42,
   "metadata": {},
   "outputs": [
    {
     "data": {
      "text/html": [
       "<div>\n",
       "<style scoped>\n",
       "    .dataframe tbody tr th:only-of-type {\n",
       "        vertical-align: middle;\n",
       "    }\n",
       "\n",
       "    .dataframe tbody tr th {\n",
       "        vertical-align: top;\n",
       "    }\n",
       "\n",
       "    .dataframe thead th {\n",
       "        text-align: right;\n",
       "    }\n",
       "</style>\n",
       "<table border=\"1\" class=\"dataframe\">\n",
       "  <thead>\n",
       "    <tr style=\"text-align: right;\">\n",
       "      <th></th>\n",
       "      <th>content</th>\n",
       "      <th>artUrl</th>\n",
       "      <th>artCatagory</th>\n",
       "      <th>words</th>\n",
       "    </tr>\n",
       "  </thead>\n",
       "  <tbody>\n",
       "    <tr>\n",
       "      <th>0</th>\n",
       "      <td>才喊話2年砍2萬人！花旗宣布「裁紐約286名員工」｜東森新聞美國花旗集團日前才宣布，將在未來...</td>\n",
       "      <td>https://news.ebc.net.tw/news/article/407802</td>\n",
       "      <td>財經</td>\n",
       "      <td>喊話 萬人 花旗 宣布 紐約 286 員工 東森 新聞 美國花旗集團 日前 宣布 將在 未來...</td>\n",
       "    </tr>\n",
       "    <tr>\n",
       "      <th>1</th>\n",
       "      <td>新／中鋼配0.35元 百萬股東哭了｜東森新聞中鋼（2002）29日公布去年財報，112年度分...</td>\n",
       "      <td>https://news.ebc.net.tw/news/article/407803</td>\n",
       "      <td>財經</td>\n",
       "      <td>中鋼配 0.35 百萬 股東 東森 新聞 2002 29 公布 去年 財報 112 年度 分...</td>\n",
       "    </tr>\n",
       "    <tr>\n",
       "      <th>2</th>\n",
       "      <td>睡覺都有股票掉下來 達人曝挑個股2要件！｜東森新聞投資人追求穩定的被動收入，不過，要是沒有足...</td>\n",
       "      <td>https://news.ebc.net.tw/news/article/407835</td>\n",
       "      <td>財經</td>\n",
       "      <td>睡覺 股票 掉下來 達人 曝挑 個股 要件 東森 新聞 投資人 追求 穩定 被動 收入 足夠...</td>\n",
       "    </tr>\n",
       "    <tr>\n",
       "      <th>3</th>\n",
       "      <td>房市虛坪改革上膛！政院拋兩策略 喊公設可降10％｜東森新聞內政部最新祭出「虛坪改革」兩大方案...</td>\n",
       "      <td>https://news.ebc.net.tw/news/article/407854</td>\n",
       "      <td>財經</td>\n",
       "      <td>房市 虛坪 改革 上膛 政院 拋兩 策略 公設 可降 10 東森 新聞 內政部 最新 虛坪 ...</td>\n",
       "    </tr>\n",
       "    <tr>\n",
       "      <th>4</th>\n",
       "      <td>124萬股東哭哭！中鋼配息0.35元三年新低｜東森新聞被外界號稱是被鋼鐵耽誤的紀念品公司中鋼...</td>\n",
       "      <td>https://news.ebc.net.tw/news/article/407864</td>\n",
       "      <td>財經</td>\n",
       "      <td>124 股東 哭哭 中鋼 配息 0.35 三年 新低 東森 新聞 外界 號稱 鋼鐵 耽誤 紀...</td>\n",
       "    </tr>\n",
       "  </tbody>\n",
       "</table>\n",
       "</div>"
      ],
      "text/plain": [
       "                                             content  \\\n",
       "0  才喊話2年砍2萬人！花旗宣布「裁紐約286名員工」｜東森新聞美國花旗集團日前才宣布，將在未來...   \n",
       "1  新／中鋼配0.35元 百萬股東哭了｜東森新聞中鋼（2002）29日公布去年財報，112年度分...   \n",
       "2  睡覺都有股票掉下來 達人曝挑個股2要件！｜東森新聞投資人追求穩定的被動收入，不過，要是沒有足...   \n",
       "3  房市虛坪改革上膛！政院拋兩策略 喊公設可降10％｜東森新聞內政部最新祭出「虛坪改革」兩大方案...   \n",
       "4  124萬股東哭哭！中鋼配息0.35元三年新低｜東森新聞被外界號稱是被鋼鐵耽誤的紀念品公司中鋼...   \n",
       "\n",
       "                                        artUrl artCatagory  \\\n",
       "0  https://news.ebc.net.tw/news/article/407802          財經   \n",
       "1  https://news.ebc.net.tw/news/article/407803          財經   \n",
       "2  https://news.ebc.net.tw/news/article/407835          財經   \n",
       "3  https://news.ebc.net.tw/news/article/407854          財經   \n",
       "4  https://news.ebc.net.tw/news/article/407864          財經   \n",
       "\n",
       "                                               words  \n",
       "0  喊話 萬人 花旗 宣布 紐約 286 員工 東森 新聞 美國花旗集團 日前 宣布 將在 未來...  \n",
       "1  中鋼配 0.35 百萬 股東 東森 新聞 2002 29 公布 去年 財報 112 年度 分...  \n",
       "2  睡覺 股票 掉下來 達人 曝挑 個股 要件 東森 新聞 投資人 追求 穩定 被動 收入 足夠...  \n",
       "3  房市 虛坪 改革 上膛 政院 拋兩 策略 公設 可降 10 東森 新聞 內政部 最新 虛坪 ...  \n",
       "4  124 股東 哭哭 中鋼 配息 0.35 三年 新低 東森 新聞 外界 號稱 鋼鐵 耽誤 紀...  "
      ]
     },
     "execution_count": 42,
     "metadata": {},
     "output_type": "execute_result"
    }
   ],
   "source": [
    "# 移除網址格式\n",
    "ct[\"artContent\"].str.replace(\"(http|https)://.*\", \"\", regex=True)\n",
    "ct[\"artTitle\"].str.replace(\"(http|https)://.*\", \"\", regex=True)\n",
    "ct[\"artContent\"].str.replace(\"[^\\u4e00-\\u9fa5]+\", \"\", regex=True)\n",
    "ct[\"artTitle\"].str.replace(\"[^\\u4e00-\\u9fa5]+\", \"\", regex=True)\n",
    "\n",
    "# 留下 content\n",
    "ct[\"content\"] = ct[\"artTitle\"] + ct[\"artContent\"]\n",
    "ct = ct.loc[:,[\"content\", \"artUrl\", \"artCatagory\"]]  # 文章內容 文章連結\n",
    "\n",
    "# 設定斷詞 function\n",
    "def getToken(row):\n",
    "    seg_list = jieba.cut(row, cut_all=False)\n",
    "    seg_list = [\n",
    "        w for w in seg_list if w not in stopWords and len(w) > 1\n",
    "    ]  # 篩選掉停用字與字元數大於1的詞彙\n",
    "    return seg_list\n",
    "\n",
    "ct[\"words\"] = ct[\"content\"].apply(getToken).map(\" \".join)\n",
    "ct.head()"
   ]
  },
  {
   "cell_type": "code",
   "execution_count": 43,
   "metadata": {},
   "outputs": [
    {
     "data": {
      "text/plain": [
       "artCatagory\n",
       "國際    651\n",
       "政治    262\n",
       "財經    130\n",
       "體育    126\n",
       "兩岸     13\n",
       "Name: count, dtype: int64"
      ]
     },
     "execution_count": 43,
     "metadata": {},
     "output_type": "execute_result"
    }
   ],
   "source": [
    "ct['artCatagory'].value_counts()"
   ]
  },
  {
   "cell_type": "code",
   "execution_count": 44,
   "metadata": {},
   "outputs": [
    {
     "name": "stdout",
     "output_type": "stream",
     "text": [
      "              precision    recall  f1-score   support\n",
      "\n",
      "          全球       0.62      0.63      0.63       651\n",
      "          兩岸       0.15      0.15      0.15       275\n",
      "          股市       0.81      0.62      0.70       130\n",
      "          運動       0.83      0.95      0.89       126\n",
      "\n",
      "    accuracy                           0.55      1182\n",
      "   macro avg       0.60      0.59      0.59      1182\n",
      "weighted avg       0.55      0.55      0.55      1182\n",
      "\n"
     ]
    }
   ],
   "source": [
    "mapper = {\"財經\":\"股市\", \"政治\":\"兩岸\", \"體育\":\"運動\", \"兩岸\": \"兩岸\", \"國際\":\"全球\"}\n",
    "ct['artCatagory'] = ct['artCatagory'].map(mapper)\n",
    "\n",
    "X = ct['words']\n",
    "y = ct['artCatagory']\n",
    "y_pred = model_set[best_model_name].predict(vectorizer.transform(X))\n",
    "print(classification_report(y, y_pred))"
   ]
  },
  {
   "cell_type": "code",
   "execution_count": 45,
   "metadata": {},
   "outputs": [
    {
     "data": {
      "text/html": [
       "<div>\n",
       "<style scoped>\n",
       "    .dataframe tbody tr th:only-of-type {\n",
       "        vertical-align: middle;\n",
       "    }\n",
       "\n",
       "    .dataframe tbody tr th {\n",
       "        vertical-align: top;\n",
       "    }\n",
       "\n",
       "    .dataframe thead th {\n",
       "        text-align: right;\n",
       "    }\n",
       "</style>\n",
       "<table border=\"1\" class=\"dataframe\">\n",
       "  <thead>\n",
       "    <tr style=\"text-align: right;\">\n",
       "      <th></th>\n",
       "      <th>words</th>\n",
       "      <th>artCatagory</th>\n",
       "      <th>pred</th>\n",
       "    </tr>\n",
       "  </thead>\n",
       "  <tbody>\n",
       "    <tr>\n",
       "      <th>0</th>\n",
       "      <td>喊話 萬人 花旗 宣布 紐約 286 員工 東森 新聞 美國花旗集團 日前 宣布 將在 未來...</td>\n",
       "      <td>股市</td>\n",
       "      <td>全球</td>\n",
       "    </tr>\n",
       "    <tr>\n",
       "      <th>1</th>\n",
       "      <td>中鋼配 0.35 百萬 股東 東森 新聞 2002 29 公布 去年 財報 112 年度 分...</td>\n",
       "      <td>股市</td>\n",
       "      <td>股市</td>\n",
       "    </tr>\n",
       "    <tr>\n",
       "      <th>2</th>\n",
       "      <td>睡覺 股票 掉下來 達人 曝挑 個股 要件 東森 新聞 投資人 追求 穩定 被動 收入 足夠...</td>\n",
       "      <td>股市</td>\n",
       "      <td>股市</td>\n",
       "    </tr>\n",
       "    <tr>\n",
       "      <th>3</th>\n",
       "      <td>房市 虛坪 改革 上膛 政院 拋兩 策略 公設 可降 10 東森 新聞 內政部 最新 虛坪 ...</td>\n",
       "      <td>股市</td>\n",
       "      <td>全球</td>\n",
       "    </tr>\n",
       "    <tr>\n",
       "      <th>4</th>\n",
       "      <td>124 股東 哭哭 中鋼 配息 0.35 三年 新低 東森 新聞 外界 號稱 鋼鐵 耽誤 紀...</td>\n",
       "      <td>股市</td>\n",
       "      <td>股市</td>\n",
       "    </tr>\n",
       "    <tr>\n",
       "      <th>...</th>\n",
       "      <td>...</td>\n",
       "      <td>...</td>\n",
       "      <td>...</td>\n",
       "    </tr>\n",
       "    <tr>\n",
       "      <th>1177</th>\n",
       "      <td>菲律賓 大學 要求 帶防 作弊 憤怒 皮卡丘 同台 東森 新聞 菲律賓 一名 大學教授 防止...</td>\n",
       "      <td>全球</td>\n",
       "      <td>全球</td>\n",
       "    </tr>\n",
       "    <tr>\n",
       "      <th>1178</th>\n",
       "      <td>遊日韓 注意 南韓 空品 嚴重 惡化 沙塵暴 將抵 東森 新聞 趕著 上班 上課 民眾 出門...</td>\n",
       "      <td>全球</td>\n",
       "      <td>兩岸</td>\n",
       "    </tr>\n",
       "    <tr>\n",
       "      <th>1179</th>\n",
       "      <td>哈利波 經典 麻瓜 隱形 斗篷 需台幣 1.3 東森 新聞 英國 新創 團隊 Invisib...</td>\n",
       "      <td>全球</td>\n",
       "      <td>全球</td>\n",
       "    </tr>\n",
       "    <tr>\n",
       "      <th>1180</th>\n",
       "      <td>哈瑪斯 殺害 德正妹 遊街 羞辱 美聯社 年度 照片 惹議 東森 新聞 一名 年僅 30 德...</td>\n",
       "      <td>全球</td>\n",
       "      <td>全球</td>\n",
       "    </tr>\n",
       "    <tr>\n",
       "      <th>1181</th>\n",
       "      <td>33 女狂 嘔以 懷孕 檢查 搖頭 壽命 東森 新聞 以為 迎來 生命 竟是 人生 終局 英...</td>\n",
       "      <td>全球</td>\n",
       "      <td>全球</td>\n",
       "    </tr>\n",
       "  </tbody>\n",
       "</table>\n",
       "<p>1182 rows × 3 columns</p>\n",
       "</div>"
      ],
      "text/plain": [
       "                                                  words artCatagory pred\n",
       "0     喊話 萬人 花旗 宣布 紐約 286 員工 東森 新聞 美國花旗集團 日前 宣布 將在 未來...          股市   全球\n",
       "1     中鋼配 0.35 百萬 股東 東森 新聞 2002 29 公布 去年 財報 112 年度 分...          股市   股市\n",
       "2     睡覺 股票 掉下來 達人 曝挑 個股 要件 東森 新聞 投資人 追求 穩定 被動 收入 足夠...          股市   股市\n",
       "3     房市 虛坪 改革 上膛 政院 拋兩 策略 公設 可降 10 東森 新聞 內政部 最新 虛坪 ...          股市   全球\n",
       "4     124 股東 哭哭 中鋼 配息 0.35 三年 新低 東森 新聞 外界 號稱 鋼鐵 耽誤 紀...          股市   股市\n",
       "...                                                 ...         ...  ...\n",
       "1177  菲律賓 大學 要求 帶防 作弊 憤怒 皮卡丘 同台 東森 新聞 菲律賓 一名 大學教授 防止...          全球   全球\n",
       "1178  遊日韓 注意 南韓 空品 嚴重 惡化 沙塵暴 將抵 東森 新聞 趕著 上班 上課 民眾 出門...          全球   兩岸\n",
       "1179  哈利波 經典 麻瓜 隱形 斗篷 需台幣 1.3 東森 新聞 英國 新創 團隊 Invisib...          全球   全球\n",
       "1180  哈瑪斯 殺害 德正妹 遊街 羞辱 美聯社 年度 照片 惹議 東森 新聞 一名 年僅 30 德...          全球   全球\n",
       "1181  33 女狂 嘔以 懷孕 檢查 搖頭 壽命 東森 新聞 以為 迎來 生命 竟是 人生 終局 英...          全球   全球\n",
       "\n",
       "[1182 rows x 3 columns]"
      ]
     },
     "execution_count": 45,
     "metadata": {},
     "output_type": "execute_result"
    }
   ],
   "source": [
    "ct['pred'] = y_pred\n",
    "ct.loc[:,['words', 'artCatagory',\"pred\"]]"
   ]
  },
  {
   "cell_type": "code",
   "execution_count": 46,
   "metadata": {},
   "outputs": [
    {
     "data": {
      "text/html": [
       "<div>\n",
       "<style scoped>\n",
       "    .dataframe tbody tr th:only-of-type {\n",
       "        vertical-align: middle;\n",
       "    }\n",
       "\n",
       "    .dataframe tbody tr th {\n",
       "        vertical-align: top;\n",
       "    }\n",
       "\n",
       "    .dataframe thead th {\n",
       "        text-align: right;\n",
       "    }\n",
       "</style>\n",
       "<table border=\"1\" class=\"dataframe\">\n",
       "  <thead>\n",
       "    <tr style=\"text-align: right;\">\n",
       "      <th></th>\n",
       "      <th>words</th>\n",
       "      <th>artCatagory</th>\n",
       "      <th>pred</th>\n",
       "    </tr>\n",
       "  </thead>\n",
       "  <tbody>\n",
       "    <tr>\n",
       "      <th>0</th>\n",
       "      <td>喊話 萬人 花旗 宣布 紐約 286 員工 東森 新聞 美國花旗集團 日前 宣布 將在 未來...</td>\n",
       "      <td>股市</td>\n",
       "      <td>全球</td>\n",
       "    </tr>\n",
       "    <tr>\n",
       "      <th>3</th>\n",
       "      <td>房市 虛坪 改革 上膛 政院 拋兩 策略 公設 可降 10 東森 新聞 內政部 最新 虛坪 ...</td>\n",
       "      <td>股市</td>\n",
       "      <td>全球</td>\n",
       "    </tr>\n",
       "    <tr>\n",
       "      <th>6</th>\n",
       "      <td>電價 平均 漲幅 影響 1500 用戶 東森 新聞 了解 經濟部 中下旬 召開 電價 諮詢 ...</td>\n",
       "      <td>股市</td>\n",
       "      <td>全球</td>\n",
       "    </tr>\n",
       "    <tr>\n",
       "      <th>7</th>\n",
       "      <td>年金 改革 收入 公務員 退休 率降 36 東森 新聞 軍公教 人員 年金 改革 上路 退休...</td>\n",
       "      <td>股市</td>\n",
       "      <td>全球</td>\n",
       "    </tr>\n",
       "    <tr>\n",
       "      <th>9</th>\n",
       "      <td>印表機 大廠 全錄 啟動 裁員 員工 失業 東森 新聞 全球 知名 印表機 製造商 全錄 X...</td>\n",
       "      <td>股市</td>\n",
       "      <td>全球</td>\n",
       "    </tr>\n",
       "    <tr>\n",
       "      <th>...</th>\n",
       "      <td>...</td>\n",
       "      <td>...</td>\n",
       "      <td>...</td>\n",
       "    </tr>\n",
       "    <tr>\n",
       "      <th>1163</th>\n",
       "      <td>經濟 感到 無力 中國 年輕人 上班 噁心 東森 新聞 中國 青年 未來 感到 無力 先前 ...</td>\n",
       "      <td>全球</td>\n",
       "      <td>兩岸</td>\n",
       "    </tr>\n",
       "    <tr>\n",
       "      <th>1166</th>\n",
       "      <td>河北 燕郊 大火 濃煙 直竄 電動車 起火 釀災 東森 新聞 中國 河北 燕郊 幾周 前才剛...</td>\n",
       "      <td>全球</td>\n",
       "      <td>兩岸</td>\n",
       "    </tr>\n",
       "    <tr>\n",
       "      <th>1168</th>\n",
       "      <td>黃金 央企 金店 陸民 損失 17 億台幣 東森 新聞 金價 創新 大陸 年輕人 已經 成為...</td>\n",
       "      <td>全球</td>\n",
       "      <td>兩岸</td>\n",
       "    </tr>\n",
       "    <tr>\n",
       "      <th>1173</th>\n",
       "      <td>健身 槓鈴 碰碎 手鐲 女客 求償 萬台幣 互告 東森 新聞 健身房 畫面 右方 黑衣 女子...</td>\n",
       "      <td>全球</td>\n",
       "      <td>兩岸</td>\n",
       "    </tr>\n",
       "    <tr>\n",
       "      <th>1178</th>\n",
       "      <td>遊日韓 注意 南韓 空品 嚴重 惡化 沙塵暴 將抵 東森 新聞 趕著 上班 上課 民眾 出門...</td>\n",
       "      <td>全球</td>\n",
       "      <td>兩岸</td>\n",
       "    </tr>\n",
       "  </tbody>\n",
       "</table>\n",
       "<p>529 rows × 3 columns</p>\n",
       "</div>"
      ],
      "text/plain": [
       "                                                  words artCatagory pred\n",
       "0     喊話 萬人 花旗 宣布 紐約 286 員工 東森 新聞 美國花旗集團 日前 宣布 將在 未來...          股市   全球\n",
       "3     房市 虛坪 改革 上膛 政院 拋兩 策略 公設 可降 10 東森 新聞 內政部 最新 虛坪 ...          股市   全球\n",
       "6     電價 平均 漲幅 影響 1500 用戶 東森 新聞 了解 經濟部 中下旬 召開 電價 諮詢 ...          股市   全球\n",
       "7     年金 改革 收入 公務員 退休 率降 36 東森 新聞 軍公教 人員 年金 改革 上路 退休...          股市   全球\n",
       "9     印表機 大廠 全錄 啟動 裁員 員工 失業 東森 新聞 全球 知名 印表機 製造商 全錄 X...          股市   全球\n",
       "...                                                 ...         ...  ...\n",
       "1163  經濟 感到 無力 中國 年輕人 上班 噁心 東森 新聞 中國 青年 未來 感到 無力 先前 ...          全球   兩岸\n",
       "1166  河北 燕郊 大火 濃煙 直竄 電動車 起火 釀災 東森 新聞 中國 河北 燕郊 幾周 前才剛...          全球   兩岸\n",
       "1168  黃金 央企 金店 陸民 損失 17 億台幣 東森 新聞 金價 創新 大陸 年輕人 已經 成為...          全球   兩岸\n",
       "1173  健身 槓鈴 碰碎 手鐲 女客 求償 萬台幣 互告 東森 新聞 健身房 畫面 右方 黑衣 女子...          全球   兩岸\n",
       "1178  遊日韓 注意 南韓 空品 嚴重 惡化 沙塵暴 將抵 東森 新聞 趕著 上班 上課 民眾 出門...          全球   兩岸\n",
       "\n",
       "[529 rows x 3 columns]"
      ]
     },
     "execution_count": 46,
     "metadata": {},
     "output_type": "execute_result"
    }
   ],
   "source": [
    "false_pred = ct.query(\"artCatagory != pred\").loc[:,['words', 'artCatagory',\"pred\"]]\n",
    "false_pred"
   ]
  },
  {
   "cell_type": "code",
   "execution_count": 47,
   "metadata": {},
   "outputs": [
    {
     "data": {
      "text/html": [
       "<div>\n",
       "<style scoped>\n",
       "    .dataframe tbody tr th:only-of-type {\n",
       "        vertical-align: middle;\n",
       "    }\n",
       "\n",
       "    .dataframe tbody tr th {\n",
       "        vertical-align: top;\n",
       "    }\n",
       "\n",
       "    .dataframe thead th {\n",
       "        text-align: right;\n",
       "    }\n",
       "</style>\n",
       "<table border=\"1\" class=\"dataframe\">\n",
       "  <thead>\n",
       "    <tr style=\"text-align: right;\">\n",
       "      <th></th>\n",
       "      <th>words</th>\n",
       "      <th>artCatagory</th>\n",
       "      <th>pred</th>\n",
       "    </tr>\n",
       "  </thead>\n",
       "  <tbody>\n",
       "    <tr>\n",
       "      <th>531</th>\n",
       "      <td>重磅 公開 中國 天鷹 無人機 試飛 畫面 年首 曝光 東森 新聞 印太 地區 空軍 戰力 ...</td>\n",
       "      <td>全球</td>\n",
       "      <td>兩岸</td>\n",
       "    </tr>\n",
       "    <tr>\n",
       "      <th>534</th>\n",
       "      <td>中國 2024 兩會 需要 核酸 檢測 東森 新聞 中國 全國 兩會 政協 人大 拉開帷幕 ...</td>\n",
       "      <td>全球</td>\n",
       "      <td>兩岸</td>\n",
       "    </tr>\n",
       "    <tr>\n",
       "      <th>536</th>\n",
       "      <td>父母 離婚 聯繫 男童 無家可歸 留校 畫面 網友 東森 新聞 馬來西亞 日前 有張 令人 ...</td>\n",
       "      <td>全球</td>\n",
       "      <td>兩岸</td>\n",
       "    </tr>\n",
       "    <tr>\n",
       "      <th>537</th>\n",
       "      <td>迎接 台積電 貴客 德國 週邊 小城 狂開 菜館 東森 新聞 台積電 熊本 日前 風光 揭幕...</td>\n",
       "      <td>全球</td>\n",
       "      <td>股市</td>\n",
       "    </tr>\n",
       "    <tr>\n",
       "      <th>538</th>\n",
       "      <td>27 男到 非洲 酋長 年薪 百萬 還能 東森 新聞 27 大陸 男子 李滿 2018 非洲...</td>\n",
       "      <td>全球</td>\n",
       "      <td>兩岸</td>\n",
       "    </tr>\n",
       "    <tr>\n",
       "      <th>539</th>\n",
       "      <td>裝窮 20 工作 還債 意外 繼承 億萬 家產 東森 新聞 中國 零食 巨頭 麻辣 王子 創...</td>\n",
       "      <td>全球</td>\n",
       "      <td>兩岸</td>\n",
       "    </tr>\n",
       "    <tr>\n",
       "      <th>542</th>\n",
       "      <td>赴陸 旅遊 期限 第一天 台灣 旅客 兩岸 來往 東森 新聞 中國 大陸 旅遊團 今天 限期...</td>\n",
       "      <td>全球</td>\n",
       "      <td>兩岸</td>\n",
       "    </tr>\n",
       "    <tr>\n",
       "      <th>550</th>\n",
       "      <td>糊塗 大陸 蜘蛛人 忘帶 鑰匙 還爬 鄰居家 東森 新聞 微弱 燈光 勉強 清楚 警方 大聲...</td>\n",
       "      <td>全球</td>\n",
       "      <td>兩岸</td>\n",
       "    </tr>\n",
       "    <tr>\n",
       "      <th>555</th>\n",
       "      <td>唱歌 突走音 就醫 查出 惡性腫瘤 東森 新聞 大陸 鄭州 女子 唱歌 突然 走音 檢查 惡...</td>\n",
       "      <td>全球</td>\n",
       "      <td>兩岸</td>\n",
       "    </tr>\n",
       "    <tr>\n",
       "      <th>559</th>\n",
       "      <td>大陸 全國 兩會 召開 北京 頭維 升級 東森 新聞 北京 準備 接受 安檢 人龍 更長 一...</td>\n",
       "      <td>全球</td>\n",
       "      <td>兩岸</td>\n",
       "    </tr>\n",
       "    <tr>\n",
       "      <th>562</th>\n",
       "      <td>日本 冰棒 時隔 年漲 社長 員工 鞠躬 道歉 東森 新聞 聲響 這家 公司 態度 日本 國...</td>\n",
       "      <td>全球</td>\n",
       "      <td>股市</td>\n",
       "    </tr>\n",
       "    <tr>\n",
       "      <th>563</th>\n",
       "      <td>瑞幸 品項 縮水 白領 小確 東森 新聞 大陸 民眾 工人 快樂 9.9 瑞幸 咖啡 節後 ...</td>\n",
       "      <td>全球</td>\n",
       "      <td>兩岸</td>\n",
       "    </tr>\n",
       "    <tr>\n",
       "      <th>566</th>\n",
       "      <td>專家 原因 族群 生病 東森 新聞 豬肉 國人 餐桌上 常見 食材 想過 部位 乾淨 國外 ...</td>\n",
       "      <td>全球</td>\n",
       "      <td>兩岸</td>\n",
       "    </tr>\n",
       "    <tr>\n",
       "      <th>567</th>\n",
       "      <td>超市 牛肉 竟是 瘦肉 牛油 陸女 切開 一看 氣炸 東森 新聞 中國 大陸 一名 一名 女...</td>\n",
       "      <td>全球</td>\n",
       "      <td>兩岸</td>\n",
       "    </tr>\n",
       "    <tr>\n",
       "      <th>575</th>\n",
       "      <td>塔塔 攜手 力積電 打造 印度 首座 12 晶圓廠 東森 新聞 印度政府 核准 規模 152...</td>\n",
       "      <td>全球</td>\n",
       "      <td>股市</td>\n",
       "    </tr>\n",
       "    <tr>\n",
       "      <th>576</th>\n",
       "      <td>厭倦 公務員 生活 陸男 勇闖 非洲 酋長 催婚 東森 新聞 中國 寧夏 一名 27 青年 ...</td>\n",
       "      <td>全球</td>\n",
       "      <td>兩岸</td>\n",
       "    </tr>\n",
       "    <tr>\n",
       "      <th>582</th>\n",
       "      <td>陸網紅 背書 紅果 瀉藥 成分 東森 新聞 大陸 影音 平台 粉絲 直播 瘋狂 楊哥 直播 ...</td>\n",
       "      <td>全球</td>\n",
       "      <td>兩岸</td>\n",
       "    </tr>\n",
       "    <tr>\n",
       "      <th>583</th>\n",
       "      <td>兩會 張曉明 免去 政協 秘書長 東森 新聞 2020 大陸 人大 常委 強勢 港版 國安法...</td>\n",
       "      <td>全球</td>\n",
       "      <td>兩岸</td>\n",
       "    </tr>\n",
       "    <tr>\n",
       "      <th>588</th>\n",
       "      <td>史上 謎團 空難 失事 10 周年 國將 重啟 搜索 東森 新聞 失事 10 周年 機上 失...</td>\n",
       "      <td>全球</td>\n",
       "      <td>兩岸</td>\n",
       "    </tr>\n",
       "    <tr>\n",
       "      <th>590</th>\n",
       "      <td>2024 中國 兩會 焦點 經濟 成長 目標 外長 東森 新聞 今年 中國 全國 兩會 先後...</td>\n",
       "      <td>全球</td>\n",
       "      <td>兩岸</td>\n",
       "    </tr>\n",
       "    <tr>\n",
       "      <th>591</th>\n",
       "      <td>月經 來痛 只能 臥床 20 女長 個子 醫生 原因 東森 新聞 大部分 女性 經歷 痛經 ...</td>\n",
       "      <td>全球</td>\n",
       "      <td>兩岸</td>\n",
       "    </tr>\n",
       "    <tr>\n",
       "      <th>593</th>\n",
       "      <td>大生 高鐵 睡著 陌生 肩膀 超甜 後續 曝光 東森 新聞 大陸 名女 大學生 近日 高鐵 ...</td>\n",
       "      <td>全球</td>\n",
       "      <td>兩岸</td>\n",
       "    </tr>\n",
       "    <tr>\n",
       "      <th>594</th>\n",
       "      <td>陸男 缺錢 ATM 冥紙 機器 卡死 下場 慘了 東森 新聞 大陸 江西省 上饒 一名 男子...</td>\n",
       "      <td>全球</td>\n",
       "      <td>兩岸</td>\n",
       "    </tr>\n",
       "    <tr>\n",
       "      <th>601</th>\n",
       "      <td>金門 快艇 管碧玲 中國 最想 名稱 東森 新聞 中國 快艇 非法 越界 金門 海域 翻覆 ...</td>\n",
       "      <td>全球</td>\n",
       "      <td>兩岸</td>\n",
       "    </tr>\n",
       "    <tr>\n",
       "      <th>603</th>\n",
       "      <td>正妹 警變 女優 遭罵 稅金 小偷 親曝入 原因 東森 新聞 日本 一名 女子 Chanyo...</td>\n",
       "      <td>全球</td>\n",
       "      <td>運動</td>\n",
       "    </tr>\n",
       "    <tr>\n",
       "      <th>604</th>\n",
       "      <td>中國 兩會 經濟 專家 市場 沒太大 憧憬 東森 新聞 中國 全國人大 政協 兩會 舉行 北...</td>\n",
       "      <td>全球</td>\n",
       "      <td>兩岸</td>\n",
       "    </tr>\n",
       "    <tr>\n",
       "      <th>605</th>\n",
       "      <td>兩會 重大 訊息 舉行 總理 記者會 東森 新聞 大陸 兩會 召開 剛剛 人大 發言人 表示...</td>\n",
       "      <td>全球</td>\n",
       "      <td>兩岸</td>\n",
       "    </tr>\n",
       "    <tr>\n",
       "      <th>608</th>\n",
       "      <td>中國 人大 記者會 經濟 安全 香港 議題 關注 東森 新聞 中國 全國人大 舉行 會前 記...</td>\n",
       "      <td>全球</td>\n",
       "      <td>兩岸</td>\n",
       "    </tr>\n",
       "    <tr>\n",
       "      <th>609</th>\n",
       "      <td>中國 兩會 關鍵字 新質 生產力 關注 東森 新聞 中國 兩會 明天 召開 分析 指出 中國...</td>\n",
       "      <td>全球</td>\n",
       "      <td>兩岸</td>\n",
       "    </tr>\n",
       "    <tr>\n",
       "      <th>610</th>\n",
       "      <td>中國 兩會 召開 500 億元 撤出 陸股 創單 新高 東森 新聞 中國政協 人大 兩會 今...</td>\n",
       "      <td>全球</td>\n",
       "      <td>兩岸</td>\n",
       "    </tr>\n",
       "    <tr>\n",
       "      <th>612</th>\n",
       "      <td>中國 取消 總理 記者會 評論 總理 地位 降低 東森 新聞 中國 今年 全國人大 會議 閉...</td>\n",
       "      <td>全球</td>\n",
       "      <td>兩岸</td>\n",
       "    </tr>\n",
       "    <tr>\n",
       "      <th>613</th>\n",
       "      <td>兩會 登場 各界 聚焦 經濟 目標 對台 立場 東森 新聞 大陸 兩會 今天 登場 警犬 偵...</td>\n",
       "      <td>全球</td>\n",
       "      <td>兩岸</td>\n",
       "    </tr>\n",
       "    <tr>\n",
       "      <th>614</th>\n",
       "      <td>香港機場 空姐 熱舞 動作 媲美 韓團 東森 新聞 近日 網路上 瘋傳 這段 影片 穿著 韓...</td>\n",
       "      <td>全球</td>\n",
       "      <td>兩岸</td>\n",
       "    </tr>\n",
       "    <tr>\n",
       "      <th>615</th>\n",
       "      <td>中國政府 工作 報告 學者 推估 經濟 成長率 設在 5% 東森 新聞 中國 兩會 召開 學...</td>\n",
       "      <td>全球</td>\n",
       "      <td>兩岸</td>\n",
       "    </tr>\n",
       "    <tr>\n",
       "      <th>617</th>\n",
       "      <td>海警 船侵 金門 海域 引發 緊張 NHK 高度 關注 報導 東森 新聞 飛機 俯瞰 金門 ...</td>\n",
       "      <td>全球</td>\n",
       "      <td>兩岸</td>\n",
       "    </tr>\n",
       "    <tr>\n",
       "      <th>619</th>\n",
       "      <td>兩會 總理 記者會 喊停 中國外交部 感謝 關心 擔心 東森 新聞 針對 今年 本屆 中國 ...</td>\n",
       "      <td>全球</td>\n",
       "      <td>兩岸</td>\n",
       "    </tr>\n",
       "    <tr>\n",
       "      <th>620</th>\n",
       "      <td>越南 最大 詐騙 首富 掏空 銀行 詐貸 千兆 越南盾 東森 新聞 富麗堂皇 大廳 豪華 藝...</td>\n",
       "      <td>全球</td>\n",
       "      <td>股市</td>\n",
       "    </tr>\n",
       "    <tr>\n",
       "      <th>621</th>\n",
       "      <td>乞丐 月薪 萬暴紅 知名演員 吐入行 12 心聲 東森 新聞 路邊 看到 乞討 乞丐 激起 ...</td>\n",
       "      <td>全球</td>\n",
       "      <td>兩岸</td>\n",
       "    </tr>\n",
       "    <tr>\n",
       "      <th>623</th>\n",
       "      <td>中國 兩會 採訪 恢復 熱鬧 藝人 政協委員 聚焦 東森 新聞 中國 今年 全國 兩會 恢復...</td>\n",
       "      <td>全球</td>\n",
       "      <td>兩岸</td>\n",
       "    </tr>\n",
       "    <tr>\n",
       "      <th>625</th>\n",
       "      <td>三中全會 總理 記者會 中國 兩會 挨批 過場 東森 新聞 中國 兩會 兩天 接力 登場 原...</td>\n",
       "      <td>全球</td>\n",
       "      <td>兩岸</td>\n",
       "    </tr>\n",
       "    <tr>\n",
       "      <th>627</th>\n",
       "      <td>罕見 人大 取消 總理 記者會 以後 不開 東森 新聞 大陸 政協會議 開幕式 登場 涉台 ...</td>\n",
       "      <td>全球</td>\n",
       "      <td>兩岸</td>\n",
       "    </tr>\n",
       "    <tr>\n",
       "      <th>629</th>\n",
       "      <td>員工 抱怨 公司 聊天 紀錄 老闆 偷錄 求償 20 東森 新聞 網路 發言 注意 使用 過...</td>\n",
       "      <td>全球</td>\n",
       "      <td>兩岸</td>\n",
       "    </tr>\n",
       "    <tr>\n",
       "      <th>631</th>\n",
       "      <td>中國 兩會 震撼 取消 總理 記者會 董明珠 幾聲 回應 東森 新聞 中國 官方 取消 總理...</td>\n",
       "      <td>全球</td>\n",
       "      <td>兩岸</td>\n",
       "    </tr>\n",
       "    <tr>\n",
       "      <th>632</th>\n",
       "      <td>兩會 和平統一 軍費 增幅 7.2 超台灣 12 東森 新聞 大陸 兩會 北京 開幕 大陸 ...</td>\n",
       "      <td>全球</td>\n",
       "      <td>兩岸</td>\n",
       "    </tr>\n",
       "    <tr>\n",
       "      <th>633</th>\n",
       "      <td>快訊 陸方 不到 道歉 拒收 海巡 88 慰問金 東森 新聞 陸方 不到 政府 道歉 中午 ...</td>\n",
       "      <td>全球</td>\n",
       "      <td>兩岸</td>\n",
       "    </tr>\n",
       "    <tr>\n",
       "      <th>634</th>\n",
       "      <td>兩會 氣氛 緊張 記者 採訪 維權 集會 遭陸警 推倒 東森 新聞 中國 兩會 期間 北京 ...</td>\n",
       "      <td>全球</td>\n",
       "      <td>兩岸</td>\n",
       "    </tr>\n",
       "    <tr>\n",
       "      <th>636</th>\n",
       "      <td>中國 兩會 記者 蜂擁 堵麥 訪問 董明珠 差點 跌倒 東森 新聞 每年 大陸 兩會 出現 ...</td>\n",
       "      <td>全球</td>\n",
       "      <td>兩岸</td>\n",
       "    </tr>\n",
       "    <tr>\n",
       "      <th>644</th>\n",
       "      <td>兩會 期間 美艦 芬恩號 穿越 台海 國防部 狀況 正常 東森 新聞 中國 兩會 召開 之際...</td>\n",
       "      <td>全球</td>\n",
       "      <td>兩岸</td>\n",
       "    </tr>\n",
       "    <tr>\n",
       "      <th>647</th>\n",
       "      <td>中國 兩會 經濟 太差 中國 取消 總理 記者會 外媒 權力 集中 東森 新聞 走向 講台 ...</td>\n",
       "      <td>全球</td>\n",
       "      <td>兩岸</td>\n",
       "    </tr>\n",
       "    <tr>\n",
       "      <th>649</th>\n",
       "      <td>中國 兩會 總理 高光 時刻 黯淡 打破 慣例 取消 記者會 東森 新聞 中國 兩會 人大 ...</td>\n",
       "      <td>全球</td>\n",
       "      <td>兩岸</td>\n",
       "    </tr>\n",
       "  </tbody>\n",
       "</table>\n",
       "</div>"
      ],
      "text/plain": [
       "                                                 words artCatagory pred\n",
       "531  重磅 公開 中國 天鷹 無人機 試飛 畫面 年首 曝光 東森 新聞 印太 地區 空軍 戰力 ...          全球   兩岸\n",
       "534  中國 2024 兩會 需要 核酸 檢測 東森 新聞 中國 全國 兩會 政協 人大 拉開帷幕 ...          全球   兩岸\n",
       "536  父母 離婚 聯繫 男童 無家可歸 留校 畫面 網友 東森 新聞 馬來西亞 日前 有張 令人 ...          全球   兩岸\n",
       "537  迎接 台積電 貴客 德國 週邊 小城 狂開 菜館 東森 新聞 台積電 熊本 日前 風光 揭幕...          全球   股市\n",
       "538  27 男到 非洲 酋長 年薪 百萬 還能 東森 新聞 27 大陸 男子 李滿 2018 非洲...          全球   兩岸\n",
       "539  裝窮 20 工作 還債 意外 繼承 億萬 家產 東森 新聞 中國 零食 巨頭 麻辣 王子 創...          全球   兩岸\n",
       "542  赴陸 旅遊 期限 第一天 台灣 旅客 兩岸 來往 東森 新聞 中國 大陸 旅遊團 今天 限期...          全球   兩岸\n",
       "550  糊塗 大陸 蜘蛛人 忘帶 鑰匙 還爬 鄰居家 東森 新聞 微弱 燈光 勉強 清楚 警方 大聲...          全球   兩岸\n",
       "555  唱歌 突走音 就醫 查出 惡性腫瘤 東森 新聞 大陸 鄭州 女子 唱歌 突然 走音 檢查 惡...          全球   兩岸\n",
       "559  大陸 全國 兩會 召開 北京 頭維 升級 東森 新聞 北京 準備 接受 安檢 人龍 更長 一...          全球   兩岸\n",
       "562  日本 冰棒 時隔 年漲 社長 員工 鞠躬 道歉 東森 新聞 聲響 這家 公司 態度 日本 國...          全球   股市\n",
       "563  瑞幸 品項 縮水 白領 小確 東森 新聞 大陸 民眾 工人 快樂 9.9 瑞幸 咖啡 節後 ...          全球   兩岸\n",
       "566  專家 原因 族群 生病 東森 新聞 豬肉 國人 餐桌上 常見 食材 想過 部位 乾淨 國外 ...          全球   兩岸\n",
       "567  超市 牛肉 竟是 瘦肉 牛油 陸女 切開 一看 氣炸 東森 新聞 中國 大陸 一名 一名 女...          全球   兩岸\n",
       "575  塔塔 攜手 力積電 打造 印度 首座 12 晶圓廠 東森 新聞 印度政府 核准 規模 152...          全球   股市\n",
       "576  厭倦 公務員 生活 陸男 勇闖 非洲 酋長 催婚 東森 新聞 中國 寧夏 一名 27 青年 ...          全球   兩岸\n",
       "582  陸網紅 背書 紅果 瀉藥 成分 東森 新聞 大陸 影音 平台 粉絲 直播 瘋狂 楊哥 直播 ...          全球   兩岸\n",
       "583  兩會 張曉明 免去 政協 秘書長 東森 新聞 2020 大陸 人大 常委 強勢 港版 國安法...          全球   兩岸\n",
       "588  史上 謎團 空難 失事 10 周年 國將 重啟 搜索 東森 新聞 失事 10 周年 機上 失...          全球   兩岸\n",
       "590  2024 中國 兩會 焦點 經濟 成長 目標 外長 東森 新聞 今年 中國 全國 兩會 先後...          全球   兩岸\n",
       "591  月經 來痛 只能 臥床 20 女長 個子 醫生 原因 東森 新聞 大部分 女性 經歷 痛經 ...          全球   兩岸\n",
       "593  大生 高鐵 睡著 陌生 肩膀 超甜 後續 曝光 東森 新聞 大陸 名女 大學生 近日 高鐵 ...          全球   兩岸\n",
       "594  陸男 缺錢 ATM 冥紙 機器 卡死 下場 慘了 東森 新聞 大陸 江西省 上饒 一名 男子...          全球   兩岸\n",
       "601  金門 快艇 管碧玲 中國 最想 名稱 東森 新聞 中國 快艇 非法 越界 金門 海域 翻覆 ...          全球   兩岸\n",
       "603  正妹 警變 女優 遭罵 稅金 小偷 親曝入 原因 東森 新聞 日本 一名 女子 Chanyo...          全球   運動\n",
       "604  中國 兩會 經濟 專家 市場 沒太大 憧憬 東森 新聞 中國 全國人大 政協 兩會 舉行 北...          全球   兩岸\n",
       "605  兩會 重大 訊息 舉行 總理 記者會 東森 新聞 大陸 兩會 召開 剛剛 人大 發言人 表示...          全球   兩岸\n",
       "608  中國 人大 記者會 經濟 安全 香港 議題 關注 東森 新聞 中國 全國人大 舉行 會前 記...          全球   兩岸\n",
       "609  中國 兩會 關鍵字 新質 生產力 關注 東森 新聞 中國 兩會 明天 召開 分析 指出 中國...          全球   兩岸\n",
       "610  中國 兩會 召開 500 億元 撤出 陸股 創單 新高 東森 新聞 中國政協 人大 兩會 今...          全球   兩岸\n",
       "612  中國 取消 總理 記者會 評論 總理 地位 降低 東森 新聞 中國 今年 全國人大 會議 閉...          全球   兩岸\n",
       "613  兩會 登場 各界 聚焦 經濟 目標 對台 立場 東森 新聞 大陸 兩會 今天 登場 警犬 偵...          全球   兩岸\n",
       "614  香港機場 空姐 熱舞 動作 媲美 韓團 東森 新聞 近日 網路上 瘋傳 這段 影片 穿著 韓...          全球   兩岸\n",
       "615  中國政府 工作 報告 學者 推估 經濟 成長率 設在 5% 東森 新聞 中國 兩會 召開 學...          全球   兩岸\n",
       "617  海警 船侵 金門 海域 引發 緊張 NHK 高度 關注 報導 東森 新聞 飛機 俯瞰 金門 ...          全球   兩岸\n",
       "619  兩會 總理 記者會 喊停 中國外交部 感謝 關心 擔心 東森 新聞 針對 今年 本屆 中國 ...          全球   兩岸\n",
       "620  越南 最大 詐騙 首富 掏空 銀行 詐貸 千兆 越南盾 東森 新聞 富麗堂皇 大廳 豪華 藝...          全球   股市\n",
       "621  乞丐 月薪 萬暴紅 知名演員 吐入行 12 心聲 東森 新聞 路邊 看到 乞討 乞丐 激起 ...          全球   兩岸\n",
       "623  中國 兩會 採訪 恢復 熱鬧 藝人 政協委員 聚焦 東森 新聞 中國 今年 全國 兩會 恢復...          全球   兩岸\n",
       "625  三中全會 總理 記者會 中國 兩會 挨批 過場 東森 新聞 中國 兩會 兩天 接力 登場 原...          全球   兩岸\n",
       "627  罕見 人大 取消 總理 記者會 以後 不開 東森 新聞 大陸 政協會議 開幕式 登場 涉台 ...          全球   兩岸\n",
       "629  員工 抱怨 公司 聊天 紀錄 老闆 偷錄 求償 20 東森 新聞 網路 發言 注意 使用 過...          全球   兩岸\n",
       "631  中國 兩會 震撼 取消 總理 記者會 董明珠 幾聲 回應 東森 新聞 中國 官方 取消 總理...          全球   兩岸\n",
       "632  兩會 和平統一 軍費 增幅 7.2 超台灣 12 東森 新聞 大陸 兩會 北京 開幕 大陸 ...          全球   兩岸\n",
       "633  快訊 陸方 不到 道歉 拒收 海巡 88 慰問金 東森 新聞 陸方 不到 政府 道歉 中午 ...          全球   兩岸\n",
       "634  兩會 氣氛 緊張 記者 採訪 維權 集會 遭陸警 推倒 東森 新聞 中國 兩會 期間 北京 ...          全球   兩岸\n",
       "636  中國 兩會 記者 蜂擁 堵麥 訪問 董明珠 差點 跌倒 東森 新聞 每年 大陸 兩會 出現 ...          全球   兩岸\n",
       "644  兩會 期間 美艦 芬恩號 穿越 台海 國防部 狀況 正常 東森 新聞 中國 兩會 召開 之際...          全球   兩岸\n",
       "647  中國 兩會 經濟 太差 中國 取消 總理 記者會 外媒 權力 集中 東森 新聞 走向 講台 ...          全球   兩岸\n",
       "649  中國 兩會 總理 高光 時刻 黯淡 打破 慣例 取消 記者會 東森 新聞 中國 兩會 人大 ...          全球   兩岸"
      ]
     },
     "execution_count": 47,
     "metadata": {},
     "output_type": "execute_result"
    }
   ],
   "source": [
    "false_pred.loc[false_pred['artCatagory']=='全球', :].head(50)"
   ]
  },
  {
   "cell_type": "code",
   "execution_count": 48,
   "metadata": {},
   "outputs": [
    {
     "data": {
      "text/plain": [
       "words          重磅 公開 中國 天鷹 無人機 試飛 畫面 年首 曝光 東森 新聞 印太 地區 空軍 戰力 ...\n",
       "artCatagory                                                   全球\n",
       "pred                                                          兩岸\n",
       "Name: 531, dtype: object"
      ]
     },
     "execution_count": 48,
     "metadata": {},
     "output_type": "execute_result"
    }
   ],
   "source": [
    "false_pred.loc[531, :]"
   ]
  },
  {
   "cell_type": "code",
   "execution_count": 49,
   "metadata": {},
   "outputs": [
    {
     "name": "stdout",
     "output_type": "stream",
     "text": [
      "('重磅 公開 中國 天鷹 無人機 試飛 畫面 年首 曝光 東森 新聞 印太 地區 空軍 戰力 發展 中國 重磅 公開 國產 無人機 天鷹 試飛 畫面 這款 '\n",
      " '戰機 長時間 巡航 飛行 隱形 具有 臨空 偵察 能力 設計師 直言 未來 發展 偵查 打擊 並用 戰機 型號 新加坡 則在 近期 宣布 增購 八架 '\n",
      " '35A 戰機 取代 現有 16 原有 12 35A 新加坡 空戰 陣容 堪稱 東南亞 跑道 滑行 起飛 外型 類似 美軍 轟炸機 歷經 研究 製造 中國 '\n",
      " '國產 無人 偵察機 天鷹 2017 11 首度 試飛 成功 足足 六年 中國 重磅 公開 當時 畫面 中國航天 科工 三院 洪忠 首飛 現在 印象 比較 '\n",
      " '天鷹 無人機 長時間 巡航 飛行 具有 臨空 偵察 能力 更能 實現 自主 起降 適合 高度 危險 戰場 執行 任務 載荷 能力 裝載 雷達 光電 電子 '\n",
      " '偵察 電子對抗 設備 設計師 表示 未來 天鷹 偵察 打擊 並用 有效 精準 打擊目標 整個 印太 地區 中國 積極 提升 軍事實力 面對 詭譎 南海 '\n",
      " '情勢 新加坡 政局穩定 人口 面積 近年 持續 武裝部隊 加強 部署 擁有 超音速 巡航 能力 全副武裝 起飛 全球 最強 戰機 35A 加入 新加坡 '\n",
      " '空軍 新加坡 國防部長 永宏 35A 設計 耐戰性 荷載 能力 更強 35 讚許 包括 短程 垂直 起降 35 機身 較大 續航力 作業 彈性 更高 '\n",
      " '新加坡 近期 宣布 將會 增購 35A 戰機 原本 新加坡 已經 訂購 12 35B 訂購 35A 將會 擁有 總共 20 具有 功能 第五代 戰機 '\n",
      " '取代 現有 16 戰機 陣容 堪稱 東南亞 最強 空軍 戰力 而身 全球 先進 35 比拼 對象 自然 中國 20 戰機 中國 20 飛行員 前方 15 '\n",
      " '公里 明白 急轉 急轉 20 35 屬於 等級 目前 全球 先進 第五代 戰機 202017 服役 已經 中國 五大 戰區 投入使用 中國 挑戰 35 '\n",
      " '35 測試 加速 推進 35 搭載 航母 福建 福建 全身 日前 首次 曝光 電磁 彈射 軌道 甲板 清楚 中國 第三艘 航母 福建 2022 六月 '\n",
      " '正式 下水 象徵 中國 海軍 邁進 一大步 特別 上面 使用 先進 電磁 彈射器 往後 35 使用 電磁 彈射 技術 進一步 加強 解放軍 海上 航空兵 '\n",
      " '力量 解放軍 海空 戰力 明顯 碾壓 印太 周邊國家 反觀 台灣 目前 戰機 系統 停留 16 擁有 35 等級 第五代 戰機 美方 點頭 出售 給予 '\n",
      " '研發 協助 最終 關鍵')\n"
     ]
    }
   ],
   "source": [
    "pprint(false_pred['words'][531])"
   ]
  },
  {
   "attachments": {},
   "cell_type": "markdown",
   "metadata": {},
   "source": [
    "模型對另一個新聞網的預測結果比較普通。可以看到兩岸的 precision 與 recall 都相對低，從預測結果來看，可以發現東森新聞的「全球」類別，也常常會報導中國的資訊，因為出現中國、大陸等字樣，使模型預測成「兩岸」。"
   ]
  },
  {
   "attachments": {},
   "cell_type": "markdown",
   "metadata": {},
   "source": [
    "* accuracy可能會因為資料分布不同而有所偏差，所以評估模型的時候，可以加入一起 F1-score, recall, precision, AUC 等常見分類任務指標來評估。"
   ]
  }
 ],
 "metadata": {
  "kernelspec": {
   "display_name": "Python 3",
   "language": "python",
   "name": "python3"
  },
  "language_info": {
   "codemirror_mode": {
    "name": "ipython",
    "version": 3
   },
   "file_extension": ".py",
   "mimetype": "text/x-python",
   "name": "python",
   "nbconvert_exporter": "python",
   "pygments_lexer": "ipython3",
   "version": "3.9.18"
  }
 },
 "nbformat": 4,
 "nbformat_minor": 4
}
